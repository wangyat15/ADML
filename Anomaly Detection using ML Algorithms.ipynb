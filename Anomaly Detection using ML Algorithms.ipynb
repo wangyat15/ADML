{
 "cells": [
  {
   "cell_type": "markdown",
   "id": "4e691b8b-290a-452b-acbc-244025169b17",
   "metadata": {},
   "source": [
    "# Anomaly Detection in Network Traffic using Machine Learning Algorithms\n",
    "\n",
    "\n",
    "### Bachelor Thesis\n",
    "### Constructor University Bremen\n",
    "### BSc in Computer Science\n",
    "\n",
    "#### 31 January 2025\n",
    "\n",
    "# Introduction\n",
    "\n",
    "This research explores the effectiveness of machine learning algorithms in detecting anomalies within network traffic. This notebook employs the raw data of the UNSW-NB15 dataset to evaluate the performance of several machine learning algorithm, including Logistic Regression, Decision Tree, Random Forests, Support Vector Classifier (SVC) and Multi-Layer Perceptron (MLP).  \n",
    "\n",
    "Comprehensive preprocessing and operations are conducted in this notebook:\n",
    "- Data cleaning\n",
    "- Data normalization\n",
    "- Feature selection \n",
    "- Data splitting\n",
    "- Cross validation\n"
   ]
  },
  {
   "cell_type": "markdown",
   "id": "4ccc906c",
   "metadata": {},
   "source": [
    "# 1. Library Import"
   ]
  },
  {
   "cell_type": "code",
   "execution_count": 2,
   "id": "09a8580f-ca31-4b5c-80f5-30b4d22d690c",
   "metadata": {},
   "outputs": [],
   "source": [
    "# data processing and plots\n",
    "import pandas as pd\n",
    "import numpy as np\n",
    "import seaborn as sns\n",
    "import matplotlib.pyplot as plt\n",
    "\n",
    "# data preprocessing\n",
    "from sklearn.preprocessing import StandardScaler\n",
    "\n",
    "# data training model and classifier\n",
    "from sklearn.model_selection import train_test_split, StratifiedKFold, cross_validate \n",
    "from sklearn.linear_model import LogisticRegression\n",
    "from sklearn.svm import SVC\n",
    "from sklearn.tree import DecisionTreeClassifier\n",
    "from sklearn.ensemble import RandomForestClassifier\n",
    "from sklearn.neural_network import MLPClassifier\n",
    "\n",
    "# performance metrics\n",
    "from sklearn.metrics import accuracy_score, precision_score, precision_recall_curve, recall_score, f1_score\n",
    "from sklearn.metrics import roc_curve, auc, roc_auc_score, confusion_matrix, classification_report\n",
    "\n",
    "import warnings\n",
    "warnings.filterwarnings(\"ignore\")\n",
    "\n"
   ]
  },
  {
   "cell_type": "markdown",
   "id": "ab5a81aa",
   "metadata": {},
   "source": [
    "# 2. Data Loading"
   ]
  },
  {
   "cell_type": "code",
   "execution_count": 3,
   "id": "07075057-aeb1-470a-b5af-12d543392b61",
   "metadata": {
    "scrolled": true
   },
   "outputs": [],
   "source": [
    "# load the UNSW-NB15 dataset (Put the datasets in the same working directory)\n",
    "# 4 CSV files are provided. The 4 files are merged to a single data set \n",
    "## Due to file and memory size, this notebook will load one of the 4 files only \n",
    "# Reading datasets (in same working directory)\n",
    "dfs = []\n",
    "##for i in range(1,5):  # use this statement when need to load all 4 files \n",
    "for i in range(1,2):    # change 2 to 5 when 4 files are loaded, instead of 1\n",
    "    path = 'UNSW-NB15_{}.csv'                       # load the input csv files one by one\n",
    "    dfs.append(pd.read_csv(path.format(i), header = None,low_memory=False))\n",
    "data = pd.concat(dfs).reset_index(drop=True)        # merge all files into a single dataframe"
   ]
  },
  {
   "cell_type": "code",
   "execution_count": 4,
   "id": "85f97c8a-5fd7-46bd-a6d1-2c2529ec3343",
   "metadata": {},
   "outputs": [],
   "source": [
    "# Get the feature names from the features csv\n",
    "df_col = pd.read_csv('NUSW-NB15_features.csv', encoding='ISO-8859-1')\n",
    "\n",
    "# Make column names lower case, removing spaces\n",
    "df_col['Name'] = df_col['Name'].apply(lambda x: x.strip().replace(' ', '').lower())\n",
    "\n",
    "# Rename our dataframe with proper column names\n",
    "data.columns = df_col['Name']"
   ]
  },
  {
   "cell_type": "code",
   "execution_count": 5,
   "id": "3dd5505d",
   "metadata": {},
   "outputs": [
    {
     "data": {
      "text/plain": [
       "(700001, 49)"
      ]
     },
     "execution_count": 5,
     "metadata": {},
     "output_type": "execute_result"
    }
   ],
   "source": [
    "# Show the shape of dataset (row and columns)\n",
    "data.shape"
   ]
  },
  {
   "cell_type": "code",
   "execution_count": 6,
   "id": "cad51f02-bbaf-4292-b734-02421c62dba6",
   "metadata": {},
   "outputs": [
    {
     "name": "stdout",
     "output_type": "stream",
     "text": [
      "<class 'pandas.core.frame.DataFrame'>\n",
      "RangeIndex: 700001 entries, 0 to 700000\n",
      "Data columns (total 49 columns):\n",
      " #   Column            Non-Null Count   Dtype  \n",
      "---  ------            --------------   -----  \n",
      " 0   srcip             700001 non-null  object \n",
      " 1   sport             700001 non-null  object \n",
      " 2   dstip             700001 non-null  object \n",
      " 3   dsport            700001 non-null  object \n",
      " 4   proto             700001 non-null  object \n",
      " 5   state             700001 non-null  object \n",
      " 6   dur               700001 non-null  float64\n",
      " 7   sbytes            700001 non-null  int64  \n",
      " 8   dbytes            700001 non-null  int64  \n",
      " 9   sttl              700001 non-null  int64  \n",
      " 10  dttl              700001 non-null  int64  \n",
      " 11  sloss             700001 non-null  int64  \n",
      " 12  dloss             700001 non-null  int64  \n",
      " 13  service           700001 non-null  object \n",
      " 14  sload             700001 non-null  float64\n",
      " 15  dload             700001 non-null  float64\n",
      " 16  spkts             700001 non-null  int64  \n",
      " 17  dpkts             700001 non-null  int64  \n",
      " 18  swin              700001 non-null  int64  \n",
      " 19  dwin              700001 non-null  int64  \n",
      " 20  stcpb             700001 non-null  int64  \n",
      " 21  dtcpb             700001 non-null  int64  \n",
      " 22  smeansz           700001 non-null  int64  \n",
      " 23  dmeansz           700001 non-null  int64  \n",
      " 24  trans_depth       700001 non-null  int64  \n",
      " 25  res_bdy_len       700001 non-null  int64  \n",
      " 26  sjit              700001 non-null  float64\n",
      " 27  djit              700001 non-null  float64\n",
      " 28  stime             700001 non-null  int64  \n",
      " 29  ltime             700001 non-null  int64  \n",
      " 30  sintpkt           700001 non-null  float64\n",
      " 31  dintpkt           700001 non-null  float64\n",
      " 32  tcprtt            700001 non-null  float64\n",
      " 33  synack            700001 non-null  float64\n",
      " 34  ackdat            700001 non-null  float64\n",
      " 35  is_sm_ips_ports   700001 non-null  int64  \n",
      " 36  ct_state_ttl      700001 non-null  int64  \n",
      " 37  ct_flw_http_mthd  700001 non-null  int64  \n",
      " 38  is_ftp_login      700001 non-null  int64  \n",
      " 39  ct_ftp_cmd        700001 non-null  int64  \n",
      " 40  ct_srv_src        700001 non-null  int64  \n",
      " 41  ct_srv_dst        700001 non-null  int64  \n",
      " 42  ct_dst_ltm        700001 non-null  int64  \n",
      " 43  ct_src_ltm        700001 non-null  int64  \n",
      " 44  ct_src_dport_ltm  700001 non-null  int64  \n",
      " 45  ct_dst_sport_ltm  700001 non-null  int64  \n",
      " 46  ct_dst_src_ltm    700001 non-null  int64  \n",
      " 47  attack_cat        22215 non-null   object \n",
      " 48  label             700001 non-null  int64  \n",
      "dtypes: float64(10), int64(31), object(8)\n",
      "memory usage: 261.7+ MB\n"
     ]
    },
    {
     "data": {
      "text/html": [
       "<div>\n",
       "<style scoped>\n",
       "    .dataframe tbody tr th:only-of-type {\n",
       "        vertical-align: middle;\n",
       "    }\n",
       "\n",
       "    .dataframe tbody tr th {\n",
       "        vertical-align: top;\n",
       "    }\n",
       "\n",
       "    .dataframe thead th {\n",
       "        text-align: right;\n",
       "    }\n",
       "</style>\n",
       "<table border=\"1\" class=\"dataframe\">\n",
       "  <thead>\n",
       "    <tr style=\"text-align: right;\">\n",
       "      <th>Name</th>\n",
       "      <th>srcip</th>\n",
       "      <th>sport</th>\n",
       "      <th>dstip</th>\n",
       "      <th>dsport</th>\n",
       "      <th>proto</th>\n",
       "      <th>state</th>\n",
       "      <th>dur</th>\n",
       "      <th>sbytes</th>\n",
       "      <th>dbytes</th>\n",
       "      <th>sttl</th>\n",
       "      <th>...</th>\n",
       "      <th>ct_ftp_cmd</th>\n",
       "      <th>ct_srv_src</th>\n",
       "      <th>ct_srv_dst</th>\n",
       "      <th>ct_dst_ltm</th>\n",
       "      <th>ct_src_ltm</th>\n",
       "      <th>ct_src_dport_ltm</th>\n",
       "      <th>ct_dst_sport_ltm</th>\n",
       "      <th>ct_dst_src_ltm</th>\n",
       "      <th>attack_cat</th>\n",
       "      <th>label</th>\n",
       "    </tr>\n",
       "  </thead>\n",
       "  <tbody>\n",
       "    <tr>\n",
       "      <th>0</th>\n",
       "      <td>59.166.0.0</td>\n",
       "      <td>1390</td>\n",
       "      <td>149.171.126.6</td>\n",
       "      <td>53</td>\n",
       "      <td>udp</td>\n",
       "      <td>CON</td>\n",
       "      <td>0.001055</td>\n",
       "      <td>132</td>\n",
       "      <td>164</td>\n",
       "      <td>31</td>\n",
       "      <td>...</td>\n",
       "      <td>0</td>\n",
       "      <td>3</td>\n",
       "      <td>7</td>\n",
       "      <td>1</td>\n",
       "      <td>3</td>\n",
       "      <td>1</td>\n",
       "      <td>1</td>\n",
       "      <td>1</td>\n",
       "      <td>NaN</td>\n",
       "      <td>0</td>\n",
       "    </tr>\n",
       "    <tr>\n",
       "      <th>1</th>\n",
       "      <td>59.166.0.0</td>\n",
       "      <td>33661</td>\n",
       "      <td>149.171.126.9</td>\n",
       "      <td>1024</td>\n",
       "      <td>udp</td>\n",
       "      <td>CON</td>\n",
       "      <td>0.036133</td>\n",
       "      <td>528</td>\n",
       "      <td>304</td>\n",
       "      <td>31</td>\n",
       "      <td>...</td>\n",
       "      <td>0</td>\n",
       "      <td>2</td>\n",
       "      <td>4</td>\n",
       "      <td>2</td>\n",
       "      <td>3</td>\n",
       "      <td>1</td>\n",
       "      <td>1</td>\n",
       "      <td>2</td>\n",
       "      <td>NaN</td>\n",
       "      <td>0</td>\n",
       "    </tr>\n",
       "    <tr>\n",
       "      <th>2</th>\n",
       "      <td>59.166.0.6</td>\n",
       "      <td>1464</td>\n",
       "      <td>149.171.126.7</td>\n",
       "      <td>53</td>\n",
       "      <td>udp</td>\n",
       "      <td>CON</td>\n",
       "      <td>0.001119</td>\n",
       "      <td>146</td>\n",
       "      <td>178</td>\n",
       "      <td>31</td>\n",
       "      <td>...</td>\n",
       "      <td>0</td>\n",
       "      <td>12</td>\n",
       "      <td>8</td>\n",
       "      <td>1</td>\n",
       "      <td>2</td>\n",
       "      <td>2</td>\n",
       "      <td>1</td>\n",
       "      <td>1</td>\n",
       "      <td>NaN</td>\n",
       "      <td>0</td>\n",
       "    </tr>\n",
       "    <tr>\n",
       "      <th>3</th>\n",
       "      <td>59.166.0.5</td>\n",
       "      <td>3593</td>\n",
       "      <td>149.171.126.5</td>\n",
       "      <td>53</td>\n",
       "      <td>udp</td>\n",
       "      <td>CON</td>\n",
       "      <td>0.001209</td>\n",
       "      <td>132</td>\n",
       "      <td>164</td>\n",
       "      <td>31</td>\n",
       "      <td>...</td>\n",
       "      <td>0</td>\n",
       "      <td>6</td>\n",
       "      <td>9</td>\n",
       "      <td>1</td>\n",
       "      <td>1</td>\n",
       "      <td>1</td>\n",
       "      <td>1</td>\n",
       "      <td>1</td>\n",
       "      <td>NaN</td>\n",
       "      <td>0</td>\n",
       "    </tr>\n",
       "    <tr>\n",
       "      <th>4</th>\n",
       "      <td>59.166.0.3</td>\n",
       "      <td>49664</td>\n",
       "      <td>149.171.126.0</td>\n",
       "      <td>53</td>\n",
       "      <td>udp</td>\n",
       "      <td>CON</td>\n",
       "      <td>0.001169</td>\n",
       "      <td>146</td>\n",
       "      <td>178</td>\n",
       "      <td>31</td>\n",
       "      <td>...</td>\n",
       "      <td>0</td>\n",
       "      <td>7</td>\n",
       "      <td>9</td>\n",
       "      <td>1</td>\n",
       "      <td>1</td>\n",
       "      <td>1</td>\n",
       "      <td>1</td>\n",
       "      <td>1</td>\n",
       "      <td>NaN</td>\n",
       "      <td>0</td>\n",
       "    </tr>\n",
       "    <tr>\n",
       "      <th>...</th>\n",
       "      <td>...</td>\n",
       "      <td>...</td>\n",
       "      <td>...</td>\n",
       "      <td>...</td>\n",
       "      <td>...</td>\n",
       "      <td>...</td>\n",
       "      <td>...</td>\n",
       "      <td>...</td>\n",
       "      <td>...</td>\n",
       "      <td>...</td>\n",
       "      <td>...</td>\n",
       "      <td>...</td>\n",
       "      <td>...</td>\n",
       "      <td>...</td>\n",
       "      <td>...</td>\n",
       "      <td>...</td>\n",
       "      <td>...</td>\n",
       "      <td>...</td>\n",
       "      <td>...</td>\n",
       "      <td>...</td>\n",
       "      <td>...</td>\n",
       "    </tr>\n",
       "    <tr>\n",
       "      <th>699996</th>\n",
       "      <td>59.166.0.8</td>\n",
       "      <td>12520</td>\n",
       "      <td>149.171.126.6</td>\n",
       "      <td>31010</td>\n",
       "      <td>tcp</td>\n",
       "      <td>FIN</td>\n",
       "      <td>0.020383</td>\n",
       "      <td>320</td>\n",
       "      <td>1874</td>\n",
       "      <td>31</td>\n",
       "      <td>...</td>\n",
       "      <td>0</td>\n",
       "      <td>8</td>\n",
       "      <td>20</td>\n",
       "      <td>7</td>\n",
       "      <td>5</td>\n",
       "      <td>1</td>\n",
       "      <td>1</td>\n",
       "      <td>4</td>\n",
       "      <td>NaN</td>\n",
       "      <td>0</td>\n",
       "    </tr>\n",
       "    <tr>\n",
       "      <th>699997</th>\n",
       "      <td>59.166.0.0</td>\n",
       "      <td>18895</td>\n",
       "      <td>149.171.126.9</td>\n",
       "      <td>80</td>\n",
       "      <td>tcp</td>\n",
       "      <td>FIN</td>\n",
       "      <td>1.402957</td>\n",
       "      <td>19410</td>\n",
       "      <td>1087890</td>\n",
       "      <td>31</td>\n",
       "      <td>...</td>\n",
       "      <td>0</td>\n",
       "      <td>1</td>\n",
       "      <td>1</td>\n",
       "      <td>2</td>\n",
       "      <td>7</td>\n",
       "      <td>2</td>\n",
       "      <td>2</td>\n",
       "      <td>2</td>\n",
       "      <td>NaN</td>\n",
       "      <td>0</td>\n",
       "    </tr>\n",
       "    <tr>\n",
       "      <th>699998</th>\n",
       "      <td>59.166.0.0</td>\n",
       "      <td>30103</td>\n",
       "      <td>149.171.126.5</td>\n",
       "      <td>5190</td>\n",
       "      <td>tcp</td>\n",
       "      <td>FIN</td>\n",
       "      <td>0.007108</td>\n",
       "      <td>2158</td>\n",
       "      <td>2464</td>\n",
       "      <td>31</td>\n",
       "      <td>...</td>\n",
       "      <td>0</td>\n",
       "      <td>13</td>\n",
       "      <td>13</td>\n",
       "      <td>6</td>\n",
       "      <td>7</td>\n",
       "      <td>2</td>\n",
       "      <td>1</td>\n",
       "      <td>2</td>\n",
       "      <td>NaN</td>\n",
       "      <td>0</td>\n",
       "    </tr>\n",
       "    <tr>\n",
       "      <th>699999</th>\n",
       "      <td>59.166.0.6</td>\n",
       "      <td>30388</td>\n",
       "      <td>149.171.126.5</td>\n",
       "      <td>111</td>\n",
       "      <td>udp</td>\n",
       "      <td>CON</td>\n",
       "      <td>0.004435</td>\n",
       "      <td>568</td>\n",
       "      <td>304</td>\n",
       "      <td>31</td>\n",
       "      <td>...</td>\n",
       "      <td>0</td>\n",
       "      <td>10</td>\n",
       "      <td>13</td>\n",
       "      <td>6</td>\n",
       "      <td>5</td>\n",
       "      <td>1</td>\n",
       "      <td>1</td>\n",
       "      <td>3</td>\n",
       "      <td>NaN</td>\n",
       "      <td>0</td>\n",
       "    </tr>\n",
       "    <tr>\n",
       "      <th>700000</th>\n",
       "      <td>59.166.0.0</td>\n",
       "      <td>6055</td>\n",
       "      <td>149.171.126.5</td>\n",
       "      <td>54145</td>\n",
       "      <td>tcp</td>\n",
       "      <td>FIN</td>\n",
       "      <td>0.072974</td>\n",
       "      <td>4238</td>\n",
       "      <td>60788</td>\n",
       "      <td>31</td>\n",
       "      <td>...</td>\n",
       "      <td>0</td>\n",
       "      <td>13</td>\n",
       "      <td>13</td>\n",
       "      <td>6</td>\n",
       "      <td>7</td>\n",
       "      <td>1</td>\n",
       "      <td>1</td>\n",
       "      <td>2</td>\n",
       "      <td>NaN</td>\n",
       "      <td>0</td>\n",
       "    </tr>\n",
       "  </tbody>\n",
       "</table>\n",
       "<p>700001 rows × 49 columns</p>\n",
       "</div>"
      ],
      "text/plain": [
       "Name         srcip  sport          dstip dsport proto state       dur  sbytes  \\\n",
       "0       59.166.0.0   1390  149.171.126.6     53   udp   CON  0.001055     132   \n",
       "1       59.166.0.0  33661  149.171.126.9   1024   udp   CON  0.036133     528   \n",
       "2       59.166.0.6   1464  149.171.126.7     53   udp   CON  0.001119     146   \n",
       "3       59.166.0.5   3593  149.171.126.5     53   udp   CON  0.001209     132   \n",
       "4       59.166.0.3  49664  149.171.126.0     53   udp   CON  0.001169     146   \n",
       "...            ...    ...            ...    ...   ...   ...       ...     ...   \n",
       "699996  59.166.0.8  12520  149.171.126.6  31010   tcp   FIN  0.020383     320   \n",
       "699997  59.166.0.0  18895  149.171.126.9     80   tcp   FIN  1.402957   19410   \n",
       "699998  59.166.0.0  30103  149.171.126.5   5190   tcp   FIN  0.007108    2158   \n",
       "699999  59.166.0.6  30388  149.171.126.5    111   udp   CON  0.004435     568   \n",
       "700000  59.166.0.0   6055  149.171.126.5  54145   tcp   FIN  0.072974    4238   \n",
       "\n",
       "Name     dbytes  sttl  ...  ct_ftp_cmd  ct_srv_src  ct_srv_dst ct_dst_ltm  \\\n",
       "0           164    31  ...           0           3           7          1   \n",
       "1           304    31  ...           0           2           4          2   \n",
       "2           178    31  ...           0          12           8          1   \n",
       "3           164    31  ...           0           6           9          1   \n",
       "4           178    31  ...           0           7           9          1   \n",
       "...         ...   ...  ...         ...         ...         ...        ...   \n",
       "699996     1874    31  ...           0           8          20          7   \n",
       "699997  1087890    31  ...           0           1           1          2   \n",
       "699998     2464    31  ...           0          13          13          6   \n",
       "699999      304    31  ...           0          10          13          6   \n",
       "700000    60788    31  ...           0          13          13          6   \n",
       "\n",
       "Name    ct_src_ltm  ct_src_dport_ltm  ct_dst_sport_ltm  ct_dst_src_ltm  \\\n",
       "0                3                 1                 1               1   \n",
       "1                3                 1                 1               2   \n",
       "2                2                 2                 1               1   \n",
       "3                1                 1                 1               1   \n",
       "4                1                 1                 1               1   \n",
       "...            ...               ...               ...             ...   \n",
       "699996           5                 1                 1               4   \n",
       "699997           7                 2                 2               2   \n",
       "699998           7                 2                 1               2   \n",
       "699999           5                 1                 1               3   \n",
       "700000           7                 1                 1               2   \n",
       "\n",
       "Name    attack_cat  label  \n",
       "0              NaN      0  \n",
       "1              NaN      0  \n",
       "2              NaN      0  \n",
       "3              NaN      0  \n",
       "4              NaN      0  \n",
       "...            ...    ...  \n",
       "699996         NaN      0  \n",
       "699997         NaN      0  \n",
       "699998         NaN      0  \n",
       "699999         NaN      0  \n",
       "700000         NaN      0  \n",
       "\n",
       "[700001 rows x 49 columns]"
      ]
     },
     "metadata": {},
     "output_type": "display_data"
    }
   ],
   "source": [
    "# Show the data info and content of dataset\n",
    "data.info()\n",
    "display(data)"
   ]
  },
  {
   "cell_type": "markdown",
   "id": "d91231d4",
   "metadata": {},
   "source": [
    "# 3. Data Cleaning"
   ]
  },
  {
   "cell_type": "code",
   "execution_count": 7,
   "id": "70a6efb0-1079-4ffd-8a53-e5f51415918b",
   "metadata": {},
   "outputs": [],
   "source": [
    "# Remove duplicates\n",
    "data.drop_duplicates(inplace=True)"
   ]
  },
  {
   "cell_type": "code",
   "execution_count": 8,
   "id": "2b3992bd",
   "metadata": {},
   "outputs": [
    {
     "data": {
      "text/plain": [
       "Name\n",
       "srcip                    0\n",
       "sport                    0\n",
       "dstip                    0\n",
       "dsport                   0\n",
       "proto                    0\n",
       "state                    0\n",
       "dur                      0\n",
       "sbytes                   0\n",
       "dbytes                   0\n",
       "sttl                     0\n",
       "dttl                     0\n",
       "sloss                    0\n",
       "dloss                    0\n",
       "service                  0\n",
       "sload                    0\n",
       "dload                    0\n",
       "spkts                    0\n",
       "dpkts                    0\n",
       "swin                     0\n",
       "dwin                     0\n",
       "stcpb                    0\n",
       "dtcpb                    0\n",
       "smeansz                  0\n",
       "dmeansz                  0\n",
       "trans_depth              0\n",
       "res_bdy_len              0\n",
       "sjit                     0\n",
       "djit                     0\n",
       "stime                    0\n",
       "ltime                    0\n",
       "sintpkt                  0\n",
       "dintpkt                  0\n",
       "tcprtt                   0\n",
       "synack                   0\n",
       "ackdat                   0\n",
       "is_sm_ips_ports          0\n",
       "ct_state_ttl             0\n",
       "ct_flw_http_mthd         0\n",
       "is_ftp_login             0\n",
       "ct_ftp_cmd               0\n",
       "ct_srv_src               0\n",
       "ct_srv_dst               0\n",
       "ct_dst_ltm               0\n",
       "ct_src_ltm               0\n",
       "ct_src_dport_ltm         0\n",
       "ct_dst_sport_ltm         0\n",
       "ct_dst_src_ltm           0\n",
       "attack_cat          626510\n",
       "label                    0\n",
       "dtype: int64"
      ]
     },
     "execution_count": 8,
     "metadata": {},
     "output_type": "execute_result"
    }
   ],
   "source": [
    "# check for null values\n",
    "data.isnull().sum()"
   ]
  },
  {
   "cell_type": "code",
   "execution_count": 9,
   "id": "a8beb683-e294-47d5-9ca1-54a83d329b73",
   "metadata": {},
   "outputs": [],
   "source": [
    "# Remove null values\n",
    "data['ct_flw_http_mthd']=data.ct_flw_http_mthd.fillna(value=0)\n",
    "data['is_ftp_login']=(data.is_ftp_login.fillna(value=0)).astype(int)\n",
    "\n",
    "# fill 'normal' value for null values in attack_cat column, and remove spaces and change to lower cases\n",
    "data['attack_cat'] = data.attack_cat.fillna(value='normal').apply(lambda x: x.strip().lower())"
   ]
  },
  {
   "cell_type": "code",
   "execution_count": 10,
   "id": "6d55e603",
   "metadata": {},
   "outputs": [
    {
     "data": {
      "text/plain": [
       "0"
      ]
     },
     "execution_count": 10,
     "metadata": {},
     "output_type": "execute_result"
    }
   ],
   "source": [
    "# check for null values after remove\n",
    "data.isnull().sum().sum()"
   ]
  },
  {
   "cell_type": "code",
   "execution_count": 11,
   "id": "66b00df1-d1c5-4d44-8e10-03061ff0f3b9",
   "metadata": {},
   "outputs": [
    {
     "name": "stdout",
     "output_type": "stream",
     "text": [
      "Dataset Information\n",
      "<class 'pandas.core.frame.DataFrame'>\n",
      "Int64Index: 640788 entries, 0 to 700000\n",
      "Data columns (total 49 columns):\n",
      " #   Column            Non-Null Count   Dtype  \n",
      "---  ------            --------------   -----  \n",
      " 0   srcip             640788 non-null  object \n",
      " 1   sport             640788 non-null  object \n",
      " 2   dstip             640788 non-null  object \n",
      " 3   dsport            640788 non-null  object \n",
      " 4   proto             640788 non-null  object \n",
      " 5   state             640788 non-null  object \n",
      " 6   dur               640788 non-null  float64\n",
      " 7   sbytes            640788 non-null  int64  \n",
      " 8   dbytes            640788 non-null  int64  \n",
      " 9   sttl              640788 non-null  int64  \n",
      " 10  dttl              640788 non-null  int64  \n",
      " 11  sloss             640788 non-null  int64  \n",
      " 12  dloss             640788 non-null  int64  \n",
      " 13  service           640788 non-null  object \n",
      " 14  sload             640788 non-null  float64\n",
      " 15  dload             640788 non-null  float64\n",
      " 16  spkts             640788 non-null  int64  \n",
      " 17  dpkts             640788 non-null  int64  \n",
      " 18  swin              640788 non-null  int64  \n",
      " 19  dwin              640788 non-null  int64  \n",
      " 20  stcpb             640788 non-null  int64  \n",
      " 21  dtcpb             640788 non-null  int64  \n",
      " 22  smeansz           640788 non-null  int64  \n",
      " 23  dmeansz           640788 non-null  int64  \n",
      " 24  trans_depth       640788 non-null  int64  \n",
      " 25  res_bdy_len       640788 non-null  int64  \n",
      " 26  sjit              640788 non-null  float64\n",
      " 27  djit              640788 non-null  float64\n",
      " 28  stime             640788 non-null  int64  \n",
      " 29  ltime             640788 non-null  int64  \n",
      " 30  sintpkt           640788 non-null  float64\n",
      " 31  dintpkt           640788 non-null  float64\n",
      " 32  tcprtt            640788 non-null  float64\n",
      " 33  synack            640788 non-null  float64\n",
      " 34  ackdat            640788 non-null  float64\n",
      " 35  is_sm_ips_ports   640788 non-null  int64  \n",
      " 36  ct_state_ttl      640788 non-null  int64  \n",
      " 37  ct_flw_http_mthd  640788 non-null  int64  \n",
      " 38  is_ftp_login      640788 non-null  int32  \n",
      " 39  ct_ftp_cmd        640788 non-null  int64  \n",
      " 40  ct_srv_src        640788 non-null  int64  \n",
      " 41  ct_srv_dst        640788 non-null  int64  \n",
      " 42  ct_dst_ltm        640788 non-null  int64  \n",
      " 43  ct_src_ltm        640788 non-null  int64  \n",
      " 44  ct_src_dport_ltm  640788 non-null  int64  \n",
      " 45  ct_dst_sport_ltm  640788 non-null  int64  \n",
      " 46  ct_dst_src_ltm    640788 non-null  int64  \n",
      " 47  attack_cat        640788 non-null  object \n",
      " 48  label             640788 non-null  int64  \n",
      "dtypes: float64(10), int32(1), int64(30), object(8)\n",
      "memory usage: 242.0+ MB\n",
      "None\n",
      "\n",
      "Show the first few rows of the Dataset\n",
      "Name       srcip  sport          dstip dsport proto state       dur  sbytes  \\\n",
      "0     59.166.0.0   1390  149.171.126.6     53   udp   CON  0.001055     132   \n",
      "1     59.166.0.0  33661  149.171.126.9   1024   udp   CON  0.036133     528   \n",
      "2     59.166.0.6   1464  149.171.126.7     53   udp   CON  0.001119     146   \n",
      "3     59.166.0.5   3593  149.171.126.5     53   udp   CON  0.001209     132   \n",
      "4     59.166.0.3  49664  149.171.126.0     53   udp   CON  0.001169     146   \n",
      "\n",
      "Name  dbytes  sttl  ...  ct_ftp_cmd  ct_srv_src  ct_srv_dst ct_dst_ltm  \\\n",
      "0        164    31  ...           0           3           7          1   \n",
      "1        304    31  ...           0           2           4          2   \n",
      "2        178    31  ...           0          12           8          1   \n",
      "3        164    31  ...           0           6           9          1   \n",
      "4        178    31  ...           0           7           9          1   \n",
      "\n",
      "Name  ct_src_ltm  ct_src_dport_ltm  ct_dst_sport_ltm  ct_dst_src_ltm  \\\n",
      "0              3                 1                 1               1   \n",
      "1              3                 1                 1               2   \n",
      "2              2                 2                 1               1   \n",
      "3              1                 1                 1               1   \n",
      "4              1                 1                 1               1   \n",
      "\n",
      "Name  attack_cat  label  \n",
      "0         normal      0  \n",
      "1         normal      0  \n",
      "2         normal      0  \n",
      "3         normal      0  \n",
      "4         normal      0  \n",
      "\n",
      "[5 rows x 49 columns]\n"
     ]
    }
   ],
   "source": [
    "# Show the data info \n",
    "print(\"Dataset Information\")\n",
    "print(data.info())\n",
    "print(\"\\nShow the first few rows of the Dataset\")\n",
    "print(data.head())"
   ]
  },
  {
   "cell_type": "markdown",
   "id": "d360868c",
   "metadata": {},
   "source": [
    "# 4. About the Data"
   ]
  },
  {
   "cell_type": "markdown",
   "id": "e759f170",
   "metadata": {},
   "source": [
    "### Show the distribution and number of the attack category and normal class (non-attack data)\n"
   ]
  },
  {
   "cell_type": "code",
   "execution_count": 12,
   "id": "95586f23",
   "metadata": {},
   "outputs": [
    {
     "data": {
      "image/png": "[encoded data removed]",
      "text/plain": [
       "<Figure size 1300x500 with 1 Axes>"
      ]
     },
     "metadata": {},
     "output_type": "display_data"
    }
   ],
   "source": [
    "# Show distribution of attack category and normal class (non-attack data)\n",
    "plt.figure(figsize=(13,5))\n",
    "plt.xlabel('counts')\n",
    "plt.ylabel('Attack_Cateogry and Normal Class')\n",
    "sns.countplot(data['attack_cat'].values,label=\"Sum\")\n",
    "plt.show()\n"
   ]
  },
  {
   "cell_type": "code",
   "execution_count": 13,
   "id": "aac40404",
   "metadata": {},
   "outputs": [
    {
     "name": "stdout",
     "output_type": "stream",
     "text": [
      "Show the number of Normal Class and Attack_Category\n"
     ]
    },
    {
     "data": {
      "text/plain": [
       "0    626510\n",
       "1     14278\n",
       "Name: label, dtype: int64"
      ]
     },
     "execution_count": 13,
     "metadata": {},
     "output_type": "execute_result"
    }
   ],
   "source": [
    "# show the number of the values (normal 0 and abnormal 1)\n",
    "print(\"Show the number of Normal Class and Attack_Category\")\n",
    "data['label'].value_counts() \n"
   ]
  },
  {
   "cell_type": "code",
   "execution_count": 14,
   "id": "d06c6717",
   "metadata": {},
   "outputs": [
    {
     "name": "stdout",
     "output_type": "stream",
     "text": [
      "Show number and types of Attack Category\n"
     ]
    },
    {
     "data": {
      "text/plain": [
       "normal            626510\n",
       "exploits            4042\n",
       "fuzzers             3991\n",
       "generic             2833\n",
       "reconnaissance      1740\n",
       "dos                  825\n",
       "analysis             301\n",
       "backdoors            299\n",
       "shellcode            223\n",
       "worms                 24\n",
       "Name: attack_cat, dtype: int64"
      ]
     },
     "execution_count": 14,
     "metadata": {},
     "output_type": "execute_result"
    }
   ],
   "source": [
    "# Show the number of attack_cat \n",
    "print(\"Show number and types of Attack Category\")\n",
    "\n",
    "data['attack_cat'].value_counts()"
   ]
  },
  {
   "cell_type": "markdown",
   "id": "6bb96c61",
   "metadata": {},
   "source": [
    "# 5. Split the dataset into training and testing sets (80-20)"
   ]
  },
  {
   "cell_type": "code",
   "execution_count": 15,
   "id": "9c3f73a6",
   "metadata": {},
   "outputs": [],
   "source": [
    "# Split data into training and testing sets with size 80-20 \n",
    "train, test = train_test_split(data, test_size=0.2, random_state=42)"
   ]
  },
  {
   "cell_type": "code",
   "execution_count": 16,
   "id": "f645293e",
   "metadata": {},
   "outputs": [
    {
     "name": "stdout",
     "output_type": "stream",
     "text": [
      "\n",
      "Show the shape of the training and testing datasets after data splitting, rows and columns\n",
      "(512630, 49) \n",
      " (128158, 49)\n"
     ]
    }
   ],
   "source": [
    "print('\\nShow the shape of the training and testing datasets after data splitting, rows and columns')\n",
    "print(train.shape,'\\n',test.shape)"
   ]
  },
  {
   "cell_type": "code",
   "execution_count": 17,
   "id": "caf4f84a",
   "metadata": {},
   "outputs": [],
   "source": [
    "# find category feature columns \n",
    "cat_col = train.select_dtypes(exclude=np.number).columns"
   ]
  },
  {
   "cell_type": "code",
   "execution_count": 18,
   "id": "25b46f88",
   "metadata": {},
   "outputs": [
    {
     "name": "stdout",
     "output_type": "stream",
     "text": [
      "\n",
      "Show list of category feature columns\n"
     ]
    },
    {
     "data": {
      "text/plain": [
       "Index(['srcip', 'sport', 'dstip', 'dsport', 'proto', 'state', 'service',\n",
       "       'attack_cat'],\n",
       "      dtype='object', name='Name')"
      ]
     },
     "execution_count": 18,
     "metadata": {},
     "output_type": "execute_result"
    }
   ],
   "source": [
    "print('\\nShow list of category feature columns')\n",
    "cat_col"
   ]
  },
  {
   "cell_type": "code",
   "execution_count": 19,
   "id": "38a8f1b1",
   "metadata": {},
   "outputs": [],
   "source": [
    "# Drop columns that are not useful for the classification \n",
    "# attact_cat, srcip, sport, dstip, dsport, proto, state, servie : are dropped \n",
    "train.drop(['attack_cat','srcip','sport','dstip','dsport','proto','state','service'],axis=1, inplace=True)\n",
    "test.drop(['attack_cat','srcip','sport','dstip','dsport','proto','state','service'],axis=1, inplace=True)"
   ]
  },
  {
   "cell_type": "code",
   "execution_count": 20,
   "id": "293c417e",
   "metadata": {},
   "outputs": [],
   "source": [
    "# Create the x and y training and testing set from the train and test dataset, drop the label column from training\n",
    "x_train, y_train = train.drop(columns=['label']), train['label'] \n",
    "x_test, y_test = test.drop(columns=['label']), test['label']"
   ]
  },
  {
   "cell_type": "code",
   "execution_count": 21,
   "id": "8f60787a",
   "metadata": {},
   "outputs": [
    {
     "name": "stdout",
     "output_type": "stream",
     "text": [
      "\n",
      "Show the shape of the x and y training and testing dataset after dropped the Label, attack_cat and category column\n",
      "(512630, 40) \n",
      " (512630,)\n",
      "\n",
      "(128158, 40) \n",
      " (128158,)\n"
     ]
    }
   ],
   "source": [
    "print ('\\nShow the shape of the x and y training and testing dataset after dropped the Label, attack_cat and category column')\n",
    "print(x_train.shape,'\\n',y_train.shape)\n",
    "print()\n",
    "print(x_test.shape,'\\n',y_test.shape)"
   ]
  },
  {
   "cell_type": "code",
   "execution_count": 22,
   "id": "fd73b7b9",
   "metadata": {},
   "outputs": [
    {
     "name": "stdout",
     "output_type": "stream",
     "text": [
      "\n",
      "Show the data info of the x_training dataset\n"
     ]
    },
    {
     "data": {
      "text/html": [
       "<div>\n",
       "<style scoped>\n",
       "    .dataframe tbody tr th:only-of-type {\n",
       "        vertical-align: middle;\n",
       "    }\n",
       "\n",
       "    .dataframe tbody tr th {\n",
       "        vertical-align: top;\n",
       "    }\n",
       "\n",
       "    .dataframe thead th {\n",
       "        text-align: right;\n",
       "    }\n",
       "</style>\n",
       "<table border=\"1\" class=\"dataframe\">\n",
       "  <thead>\n",
       "    <tr style=\"text-align: right;\">\n",
       "      <th>Name</th>\n",
       "      <th>dur</th>\n",
       "      <th>sbytes</th>\n",
       "      <th>dbytes</th>\n",
       "      <th>sttl</th>\n",
       "      <th>dttl</th>\n",
       "      <th>sloss</th>\n",
       "      <th>dloss</th>\n",
       "      <th>sload</th>\n",
       "      <th>dload</th>\n",
       "      <th>spkts</th>\n",
       "      <th>...</th>\n",
       "      <th>ct_flw_http_mthd</th>\n",
       "      <th>is_ftp_login</th>\n",
       "      <th>ct_ftp_cmd</th>\n",
       "      <th>ct_srv_src</th>\n",
       "      <th>ct_srv_dst</th>\n",
       "      <th>ct_dst_ltm</th>\n",
       "      <th>ct_src_ltm</th>\n",
       "      <th>ct_src_dport_ltm</th>\n",
       "      <th>ct_dst_sport_ltm</th>\n",
       "      <th>ct_dst_src_ltm</th>\n",
       "    </tr>\n",
       "  </thead>\n",
       "  <tbody>\n",
       "    <tr>\n",
       "      <th>276731</th>\n",
       "      <td>1.073962</td>\n",
       "      <td>1580</td>\n",
       "      <td>10168</td>\n",
       "      <td>31</td>\n",
       "      <td>29</td>\n",
       "      <td>3</td>\n",
       "      <td>5</td>\n",
       "      <td>1.079368e+04</td>\n",
       "      <td>7.154071e+04</td>\n",
       "      <td>12</td>\n",
       "      <td>...</td>\n",
       "      <td>1</td>\n",
       "      <td>0</td>\n",
       "      <td>0</td>\n",
       "      <td>2</td>\n",
       "      <td>4</td>\n",
       "      <td>2</td>\n",
       "      <td>2</td>\n",
       "      <td>1</td>\n",
       "      <td>1</td>\n",
       "      <td>1</td>\n",
       "    </tr>\n",
       "    <tr>\n",
       "      <th>411162</th>\n",
       "      <td>0.001699</td>\n",
       "      <td>520</td>\n",
       "      <td>304</td>\n",
       "      <td>31</td>\n",
       "      <td>29</td>\n",
       "      <td>0</td>\n",
       "      <td>0</td>\n",
       "      <td>1.836374e+06</td>\n",
       "      <td>1.073573e+06</td>\n",
       "      <td>4</td>\n",
       "      <td>...</td>\n",
       "      <td>0</td>\n",
       "      <td>0</td>\n",
       "      <td>0</td>\n",
       "      <td>2</td>\n",
       "      <td>3</td>\n",
       "      <td>3</td>\n",
       "      <td>2</td>\n",
       "      <td>1</td>\n",
       "      <td>1</td>\n",
       "      <td>2</td>\n",
       "    </tr>\n",
       "    <tr>\n",
       "      <th>502357</th>\n",
       "      <td>0.054034</td>\n",
       "      <td>4862</td>\n",
       "      <td>79236</td>\n",
       "      <td>31</td>\n",
       "      <td>29</td>\n",
       "      <td>7</td>\n",
       "      <td>36</td>\n",
       "      <td>7.114039e+05</td>\n",
       "      <td>1.159492e+07</td>\n",
       "      <td>84</td>\n",
       "      <td>...</td>\n",
       "      <td>0</td>\n",
       "      <td>0</td>\n",
       "      <td>0</td>\n",
       "      <td>4</td>\n",
       "      <td>5</td>\n",
       "      <td>3</td>\n",
       "      <td>3</td>\n",
       "      <td>1</td>\n",
       "      <td>1</td>\n",
       "      <td>1</td>\n",
       "    </tr>\n",
       "    <tr>\n",
       "      <th>63794</th>\n",
       "      <td>1.044222</td>\n",
       "      <td>1684</td>\n",
       "      <td>10168</td>\n",
       "      <td>31</td>\n",
       "      <td>29</td>\n",
       "      <td>3</td>\n",
       "      <td>5</td>\n",
       "      <td>1.198213e+04</td>\n",
       "      <td>7.357823e+04</td>\n",
       "      <td>14</td>\n",
       "      <td>...</td>\n",
       "      <td>1</td>\n",
       "      <td>0</td>\n",
       "      <td>0</td>\n",
       "      <td>3</td>\n",
       "      <td>3</td>\n",
       "      <td>8</td>\n",
       "      <td>3</td>\n",
       "      <td>1</td>\n",
       "      <td>1</td>\n",
       "      <td>1</td>\n",
       "    </tr>\n",
       "    <tr>\n",
       "      <th>450266</th>\n",
       "      <td>0.510301</td>\n",
       "      <td>568</td>\n",
       "      <td>312</td>\n",
       "      <td>31</td>\n",
       "      <td>29</td>\n",
       "      <td>0</td>\n",
       "      <td>0</td>\n",
       "      <td>6.678412e+03</td>\n",
       "      <td>3.668423e+03</td>\n",
       "      <td>4</td>\n",
       "      <td>...</td>\n",
       "      <td>0</td>\n",
       "      <td>0</td>\n",
       "      <td>0</td>\n",
       "      <td>9</td>\n",
       "      <td>11</td>\n",
       "      <td>7</td>\n",
       "      <td>6</td>\n",
       "      <td>1</td>\n",
       "      <td>1</td>\n",
       "      <td>2</td>\n",
       "    </tr>\n",
       "  </tbody>\n",
       "</table>\n",
       "<p>5 rows × 40 columns</p>\n",
       "</div>"
      ],
      "text/plain": [
       "Name         dur  sbytes  dbytes  sttl  dttl  sloss  dloss         sload  \\\n",
       "276731  1.073962    1580   10168    31    29      3      5  1.079368e+04   \n",
       "411162  0.001699     520     304    31    29      0      0  1.836374e+06   \n",
       "502357  0.054034    4862   79236    31    29      7     36  7.114039e+05   \n",
       "63794   1.044222    1684   10168    31    29      3      5  1.198213e+04   \n",
       "450266  0.510301     568     312    31    29      0      0  6.678412e+03   \n",
       "\n",
       "Name           dload  spkts  ...  ct_flw_http_mthd  is_ftp_login  ct_ftp_cmd  \\\n",
       "276731  7.154071e+04     12  ...                 1             0           0   \n",
       "411162  1.073573e+06      4  ...                 0             0           0   \n",
       "502357  1.159492e+07     84  ...                 0             0           0   \n",
       "63794   7.357823e+04     14  ...                 1             0           0   \n",
       "450266  3.668423e+03      4  ...                 0             0           0   \n",
       "\n",
       "Name    ct_srv_src  ct_srv_dst  ct_dst_ltm  ct_src_ltm  ct_src_dport_ltm  \\\n",
       "276731           2           4           2           2                 1   \n",
       "411162           2           3           3           2                 1   \n",
       "502357           4           5           3           3                 1   \n",
       "63794            3           3           8           3                 1   \n",
       "450266           9          11           7           6                 1   \n",
       "\n",
       "Name    ct_dst_sport_ltm  ct_dst_src_ltm  \n",
       "276731                 1               1  \n",
       "411162                 1               2  \n",
       "502357                 1               1  \n",
       "63794                  1               1  \n",
       "450266                 1               2  \n",
       "\n",
       "[5 rows x 40 columns]"
      ]
     },
     "execution_count": 22,
     "metadata": {},
     "output_type": "execute_result"
    }
   ],
   "source": [
    "print('\\nShow the data info of the x_training dataset')\n",
    "x_train.head()"
   ]
  },
  {
   "cell_type": "code",
   "execution_count": 23,
   "id": "e87f9fcd",
   "metadata": {},
   "outputs": [
    {
     "data": {
      "text/plain": [
       "276731    0\n",
       "411162    0\n",
       "502357    0\n",
       "63794     0\n",
       "450266    0\n",
       "Name: label, dtype: int64"
      ]
     },
     "execution_count": 23,
     "metadata": {},
     "output_type": "execute_result"
    }
   ],
   "source": [
    "y_train.head()"
   ]
  },
  {
   "cell_type": "markdown",
   "id": "7c87fd23",
   "metadata": {},
   "source": [
    "# 6. Feature Selection - Correlation Analysis "
   ]
  },
  {
   "cell_type": "code",
   "execution_count": 24,
   "id": "4294a14b",
   "metadata": {},
   "outputs": [],
   "source": [
    "# Function to find the correlation between two feature columns\n",
    "\n",
    "def corr(col1, col2=\"label\", df=x_train):\n",
    "    \"\"\"\n",
    "    This function returns correlation between 2 given features\n",
    "    \"\"\"\n",
    "    return df[[col1, col2]].corr().iloc[0,1]"
   ]
  },
  {
   "cell_type": "code",
   "execution_count": 25,
   "id": "c80234ba",
   "metadata": {},
   "outputs": [],
   "source": [
    "# Find the features with high correlation and Remove them (with correlation > 0.9)\n",
    "# https://www.projectpro.io/recipes/drop-out-highly-correlated-features-in-python\n",
    "co_matrix = x_train.corr().abs()\n",
    "\n",
    "# Select upper triangle of correlation matrix\n",
    "upper = co_matrix.where(np.triu(np.ones(co_matrix.shape), k=1).astype(np.bool))\n",
    "\n",
    "# Find index of feature columns with correlation greater than 0.9\n",
    "to_drop = [column for column in upper.columns if any(upper[column] > 0.90)]"
   ]
  },
  {
   "cell_type": "code",
   "execution_count": 26,
   "id": "79abba2d",
   "metadata": {},
   "outputs": [
    {
     "name": "stdout",
     "output_type": "stream",
     "text": [
      "\n",
      "Show list of features with high correlation\n",
      "['sloss', 'dloss', 'dpkts', 'dwin', 'ltime', 'synack', 'ackdat']\n"
     ]
    }
   ],
   "source": [
    "print('\\nShow list of features with high correlation')\n",
    "print(to_drop)"
   ]
  },
  {
   "cell_type": "code",
   "execution_count": 27,
   "id": "8e2ef8f6",
   "metadata": {},
   "outputs": [],
   "source": [
    "# remove the highly correlated features from x_train and x_test\n",
    "x_train.drop(columns=to_drop, inplace=True)\n",
    "x_test.drop(columns=to_drop, inplace=True)"
   ]
  },
  {
   "cell_type": "code",
   "execution_count": 28,
   "id": "264f544e",
   "metadata": {},
   "outputs": [
    {
     "name": "stdout",
     "output_type": "stream",
     "text": [
      "\n",
      "Show the shape of the trainnig and testing x dataset after removing the highly correlated features\n"
     ]
    },
    {
     "data": {
      "text/plain": [
       "((512630, 33), (128158, 33))"
      ]
     },
     "execution_count": 28,
     "metadata": {},
     "output_type": "execute_result"
    }
   ],
   "source": [
    "print('\\nShow the shape of the trainnig and testing x dataset after removing the highly correlated features')\n",
    "x_train.shape, x_test.shape"
   ]
  },
  {
   "cell_type": "markdown",
   "id": "bc02e1d7",
   "metadata": {},
   "source": [
    "# 7. Normalize the features (Standardize numeric columns)"
   ]
  },
  {
   "cell_type": "code",
   "execution_count": 29,
   "id": "471a2e58",
   "metadata": {},
   "outputs": [],
   "source": [
    "# find numeric feature columns\n",
    "num_col = x_train.select_dtypes(include=np.number).columns"
   ]
  },
  {
   "cell_type": "code",
   "execution_count": 30,
   "id": "517e80f4",
   "metadata": {},
   "outputs": [],
   "source": [
    "# Standardizing the data (data normalization)\n",
    "scaler = StandardScaler()\n",
    "scaler = scaler.fit(x_train[num_col])"
   ]
  },
  {
   "cell_type": "code",
   "execution_count": 31,
   "id": "ab4a9e4a",
   "metadata": {},
   "outputs": [],
   "source": [
    "x_train[num_col] = scaler.transform(x_train[num_col])"
   ]
  },
  {
   "cell_type": "code",
   "execution_count": 32,
   "id": "5402dbf4",
   "metadata": {},
   "outputs": [
    {
     "data": {
      "text/html": [
       "<div>\n",
       "<style scoped>\n",
       "    .dataframe tbody tr th:only-of-type {\n",
       "        vertical-align: middle;\n",
       "    }\n",
       "\n",
       "    .dataframe tbody tr th {\n",
       "        vertical-align: top;\n",
       "    }\n",
       "\n",
       "    .dataframe thead th {\n",
       "        text-align: right;\n",
       "    }\n",
       "</style>\n",
       "<table border=\"1\" class=\"dataframe\">\n",
       "  <thead>\n",
       "    <tr style=\"text-align: right;\">\n",
       "      <th>Name</th>\n",
       "      <th>dur</th>\n",
       "      <th>sbytes</th>\n",
       "      <th>dbytes</th>\n",
       "      <th>sttl</th>\n",
       "      <th>dttl</th>\n",
       "      <th>sload</th>\n",
       "      <th>dload</th>\n",
       "      <th>spkts</th>\n",
       "      <th>swin</th>\n",
       "      <th>stcpb</th>\n",
       "      <th>...</th>\n",
       "      <th>ct_flw_http_mthd</th>\n",
       "      <th>is_ftp_login</th>\n",
       "      <th>ct_ftp_cmd</th>\n",
       "      <th>ct_srv_src</th>\n",
       "      <th>ct_srv_dst</th>\n",
       "      <th>ct_dst_ltm</th>\n",
       "      <th>ct_src_ltm</th>\n",
       "      <th>ct_src_dport_ltm</th>\n",
       "      <th>ct_dst_sport_ltm</th>\n",
       "      <th>ct_dst_src_ltm</th>\n",
       "    </tr>\n",
       "  </thead>\n",
       "  <tbody>\n",
       "    <tr>\n",
       "      <th>276731</th>\n",
       "      <td>0.024364</td>\n",
       "      <td>-0.071500</td>\n",
       "      <td>-0.196296</td>\n",
       "      <td>-0.16134</td>\n",
       "      <td>-0.117144</td>\n",
       "      <td>-0.088238</td>\n",
       "      <td>-0.664300</td>\n",
       "      <td>-0.368507</td>\n",
       "      <td>0.634533</td>\n",
       "      <td>-0.013747</td>\n",
       "      <td>...</td>\n",
       "      <td>1.245289</td>\n",
       "      <td>-0.130863</td>\n",
       "      <td>-0.110529</td>\n",
       "      <td>-0.860792</td>\n",
       "      <td>-0.388227</td>\n",
       "      <td>-0.594912</td>\n",
       "      <td>-0.668668</td>\n",
       "      <td>-0.32829</td>\n",
       "      <td>-0.203848</td>\n",
       "      <td>-0.557761</td>\n",
       "    </tr>\n",
       "    <tr>\n",
       "      <th>411162</th>\n",
       "      <td>-0.036684</td>\n",
       "      <td>-0.093949</td>\n",
       "      <td>-0.253593</td>\n",
       "      <td>-0.16134</td>\n",
       "      <td>-0.117144</td>\n",
       "      <td>-0.048941</td>\n",
       "      <td>-0.443340</td>\n",
       "      <td>-0.473858</td>\n",
       "      <td>-1.575987</td>\n",
       "      <td>-1.070473</td>\n",
       "      <td>...</td>\n",
       "      <td>-0.207205</td>\n",
       "      <td>-0.130863</td>\n",
       "      <td>-0.110529</td>\n",
       "      <td>-0.860792</td>\n",
       "      <td>-0.627582</td>\n",
       "      <td>-0.239684</td>\n",
       "      <td>-0.668668</td>\n",
       "      <td>-0.32829</td>\n",
       "      <td>-0.203848</td>\n",
       "      <td>0.072335</td>\n",
       "    </tr>\n",
       "    <tr>\n",
       "      <th>502357</th>\n",
       "      <td>-0.033705</td>\n",
       "      <td>-0.001996</td>\n",
       "      <td>0.204902</td>\n",
       "      <td>-0.16134</td>\n",
       "      <td>-0.117144</td>\n",
       "      <td>-0.073157</td>\n",
       "      <td>1.876739</td>\n",
       "      <td>0.579656</td>\n",
       "      <td>0.634533</td>\n",
       "      <td>-0.780141</td>\n",
       "      <td>...</td>\n",
       "      <td>-0.207205</td>\n",
       "      <td>-0.130863</td>\n",
       "      <td>-0.110529</td>\n",
       "      <td>-0.423543</td>\n",
       "      <td>-0.148872</td>\n",
       "      <td>-0.239684</td>\n",
       "      <td>-0.357930</td>\n",
       "      <td>-0.32829</td>\n",
       "      <td>-0.203848</td>\n",
       "      <td>-0.557761</td>\n",
       "    </tr>\n",
       "    <tr>\n",
       "      <th>63794</th>\n",
       "      <td>0.022671</td>\n",
       "      <td>-0.069298</td>\n",
       "      <td>-0.196296</td>\n",
       "      <td>-0.16134</td>\n",
       "      <td>-0.117144</td>\n",
       "      <td>-0.088213</td>\n",
       "      <td>-0.663851</td>\n",
       "      <td>-0.342169</td>\n",
       "      <td>0.634533</td>\n",
       "      <td>1.897410</td>\n",
       "      <td>...</td>\n",
       "      <td>1.245289</td>\n",
       "      <td>-0.130863</td>\n",
       "      <td>-0.110529</td>\n",
       "      <td>-0.642168</td>\n",
       "      <td>-0.627582</td>\n",
       "      <td>1.536456</td>\n",
       "      <td>-0.357930</td>\n",
       "      <td>-0.32829</td>\n",
       "      <td>-0.203848</td>\n",
       "      <td>-0.557761</td>\n",
       "    </tr>\n",
       "    <tr>\n",
       "      <th>450266</th>\n",
       "      <td>-0.007728</td>\n",
       "      <td>-0.092932</td>\n",
       "      <td>-0.253547</td>\n",
       "      <td>-0.16134</td>\n",
       "      <td>-0.117144</td>\n",
       "      <td>-0.088327</td>\n",
       "      <td>-0.679267</td>\n",
       "      <td>-0.473858</td>\n",
       "      <td>-1.575987</td>\n",
       "      <td>-1.070473</td>\n",
       "      <td>...</td>\n",
       "      <td>-0.207205</td>\n",
       "      <td>-0.130863</td>\n",
       "      <td>-0.110529</td>\n",
       "      <td>0.669581</td>\n",
       "      <td>1.287257</td>\n",
       "      <td>1.181228</td>\n",
       "      <td>0.574282</td>\n",
       "      <td>-0.32829</td>\n",
       "      <td>-0.203848</td>\n",
       "      <td>0.072335</td>\n",
       "    </tr>\n",
       "  </tbody>\n",
       "</table>\n",
       "<p>5 rows × 33 columns</p>\n",
       "</div>"
      ],
      "text/plain": [
       "Name         dur    sbytes    dbytes     sttl      dttl     sload     dload  \\\n",
       "276731  0.024364 -0.071500 -0.196296 -0.16134 -0.117144 -0.088238 -0.664300   \n",
       "411162 -0.036684 -0.093949 -0.253593 -0.16134 -0.117144 -0.048941 -0.443340   \n",
       "502357 -0.033705 -0.001996  0.204902 -0.16134 -0.117144 -0.073157  1.876739   \n",
       "63794   0.022671 -0.069298 -0.196296 -0.16134 -0.117144 -0.088213 -0.663851   \n",
       "450266 -0.007728 -0.092932 -0.253547 -0.16134 -0.117144 -0.088327 -0.679267   \n",
       "\n",
       "Name       spkts      swin     stcpb  ...  ct_flw_http_mthd  is_ftp_login  \\\n",
       "276731 -0.368507  0.634533 -0.013747  ...          1.245289     -0.130863   \n",
       "411162 -0.473858 -1.575987 -1.070473  ...         -0.207205     -0.130863   \n",
       "502357  0.579656  0.634533 -0.780141  ...         -0.207205     -0.130863   \n",
       "63794  -0.342169  0.634533  1.897410  ...          1.245289     -0.130863   \n",
       "450266 -0.473858 -1.575987 -1.070473  ...         -0.207205     -0.130863   \n",
       "\n",
       "Name    ct_ftp_cmd  ct_srv_src  ct_srv_dst  ct_dst_ltm  ct_src_ltm  \\\n",
       "276731   -0.110529   -0.860792   -0.388227   -0.594912   -0.668668   \n",
       "411162   -0.110529   -0.860792   -0.627582   -0.239684   -0.668668   \n",
       "502357   -0.110529   -0.423543   -0.148872   -0.239684   -0.357930   \n",
       "63794    -0.110529   -0.642168   -0.627582    1.536456   -0.357930   \n",
       "450266   -0.110529    0.669581    1.287257    1.181228    0.574282   \n",
       "\n",
       "Name    ct_src_dport_ltm  ct_dst_sport_ltm  ct_dst_src_ltm  \n",
       "276731          -0.32829         -0.203848       -0.557761  \n",
       "411162          -0.32829         -0.203848        0.072335  \n",
       "502357          -0.32829         -0.203848       -0.557761  \n",
       "63794           -0.32829         -0.203848       -0.557761  \n",
       "450266          -0.32829         -0.203848        0.072335  \n",
       "\n",
       "[5 rows x 33 columns]"
      ]
     },
     "execution_count": 32,
     "metadata": {},
     "output_type": "execute_result"
    }
   ],
   "source": [
    "x_train.head()"
   ]
  },
  {
   "cell_type": "code",
   "execution_count": 33,
   "id": "b41245b4",
   "metadata": {},
   "outputs": [],
   "source": [
    "x_test[num_col] = scaler.transform(x_test[num_col])"
   ]
  },
  {
   "cell_type": "code",
   "execution_count": 34,
   "id": "aa72e964",
   "metadata": {},
   "outputs": [
    {
     "data": {
      "text/html": [
       "<div>\n",
       "<style scoped>\n",
       "    .dataframe tbody tr th:only-of-type {\n",
       "        vertical-align: middle;\n",
       "    }\n",
       "\n",
       "    .dataframe tbody tr th {\n",
       "        vertical-align: top;\n",
       "    }\n",
       "\n",
       "    .dataframe thead th {\n",
       "        text-align: right;\n",
       "    }\n",
       "</style>\n",
       "<table border=\"1\" class=\"dataframe\">\n",
       "  <thead>\n",
       "    <tr style=\"text-align: right;\">\n",
       "      <th>Name</th>\n",
       "      <th>dur</th>\n",
       "      <th>sbytes</th>\n",
       "      <th>dbytes</th>\n",
       "      <th>sttl</th>\n",
       "      <th>dttl</th>\n",
       "      <th>sload</th>\n",
       "      <th>dload</th>\n",
       "      <th>spkts</th>\n",
       "      <th>swin</th>\n",
       "      <th>stcpb</th>\n",
       "      <th>...</th>\n",
       "      <th>ct_flw_http_mthd</th>\n",
       "      <th>is_ftp_login</th>\n",
       "      <th>ct_ftp_cmd</th>\n",
       "      <th>ct_srv_src</th>\n",
       "      <th>ct_srv_dst</th>\n",
       "      <th>ct_dst_ltm</th>\n",
       "      <th>ct_src_ltm</th>\n",
       "      <th>ct_src_dport_ltm</th>\n",
       "      <th>ct_dst_sport_ltm</th>\n",
       "      <th>ct_dst_src_ltm</th>\n",
       "    </tr>\n",
       "  </thead>\n",
       "  <tbody>\n",
       "    <tr>\n",
       "      <th>410480</th>\n",
       "      <td>-0.033978</td>\n",
       "      <td>-0.051128</td>\n",
       "      <td>-0.125058</td>\n",
       "      <td>-0.16134</td>\n",
       "      <td>-0.117144</td>\n",
       "      <td>-0.079799</td>\n",
       "      <td>0.104643</td>\n",
       "      <td>0.000223</td>\n",
       "      <td>0.634533</td>\n",
       "      <td>-0.720389</td>\n",
       "      <td>...</td>\n",
       "      <td>-0.207205</td>\n",
       "      <td>-0.130863</td>\n",
       "      <td>-0.110529</td>\n",
       "      <td>0.669581</td>\n",
       "      <td>-0.388227</td>\n",
       "      <td>-0.594912</td>\n",
       "      <td>-0.047193</td>\n",
       "      <td>-0.32829</td>\n",
       "      <td>-0.203848</td>\n",
       "      <td>0.072335</td>\n",
       "    </tr>\n",
       "    <tr>\n",
       "      <th>118551</th>\n",
       "      <td>-0.036044</td>\n",
       "      <td>-0.048925</td>\n",
       "      <td>-0.114114</td>\n",
       "      <td>-0.16134</td>\n",
       "      <td>-0.117144</td>\n",
       "      <td>-0.054104</td>\n",
       "      <td>2.558888</td>\n",
       "      <td>0.026561</td>\n",
       "      <td>0.634533</td>\n",
       "      <td>0.261030</td>\n",
       "      <td>...</td>\n",
       "      <td>-0.207205</td>\n",
       "      <td>-0.130863</td>\n",
       "      <td>-0.110529</td>\n",
       "      <td>0.232332</td>\n",
       "      <td>0.569193</td>\n",
       "      <td>0.826000</td>\n",
       "      <td>-0.668668</td>\n",
       "      <td>-0.32829</td>\n",
       "      <td>-0.203848</td>\n",
       "      <td>-0.557761</td>\n",
       "    </tr>\n",
       "    <tr>\n",
       "      <th>525054</th>\n",
       "      <td>-0.035255</td>\n",
       "      <td>-0.027028</td>\n",
       "      <td>-0.240489</td>\n",
       "      <td>-0.16134</td>\n",
       "      <td>-0.117144</td>\n",
       "      <td>-0.066129</td>\n",
       "      <td>-0.519949</td>\n",
       "      <td>-0.289493</td>\n",
       "      <td>0.634533</td>\n",
       "      <td>0.942663</td>\n",
       "      <td>...</td>\n",
       "      <td>-0.207205</td>\n",
       "      <td>-0.130863</td>\n",
       "      <td>-0.110529</td>\n",
       "      <td>-0.642168</td>\n",
       "      <td>0.329838</td>\n",
       "      <td>-0.594912</td>\n",
       "      <td>-0.979405</td>\n",
       "      <td>-0.32829</td>\n",
       "      <td>-0.203848</td>\n",
       "      <td>-0.557761</td>\n",
       "    </tr>\n",
       "    <tr>\n",
       "      <th>246600</th>\n",
       "      <td>-0.035327</td>\n",
       "      <td>-0.072348</td>\n",
       "      <td>-0.245810</td>\n",
       "      <td>-0.16134</td>\n",
       "      <td>-0.117144</td>\n",
       "      <td>-0.078732</td>\n",
       "      <td>-0.572786</td>\n",
       "      <td>-0.315831</td>\n",
       "      <td>0.634533</td>\n",
       "      <td>1.277555</td>\n",
       "      <td>...</td>\n",
       "      <td>-0.207205</td>\n",
       "      <td>-0.130863</td>\n",
       "      <td>-0.110529</td>\n",
       "      <td>0.450957</td>\n",
       "      <td>0.090483</td>\n",
       "      <td>-0.950140</td>\n",
       "      <td>0.263545</td>\n",
       "      <td>-0.32829</td>\n",
       "      <td>-0.203848</td>\n",
       "      <td>-0.557761</td>\n",
       "    </tr>\n",
       "    <tr>\n",
       "      <th>231871</th>\n",
       "      <td>-0.036723</td>\n",
       "      <td>-0.101869</td>\n",
       "      <td>-0.254325</td>\n",
       "      <td>-0.16134</td>\n",
       "      <td>-0.117144</td>\n",
       "      <td>-0.076182</td>\n",
       "      <td>-0.526601</td>\n",
       "      <td>-0.500196</td>\n",
       "      <td>-1.575987</td>\n",
       "      <td>-1.070473</td>\n",
       "      <td>...</td>\n",
       "      <td>-0.207205</td>\n",
       "      <td>-0.130863</td>\n",
       "      <td>-0.110529</td>\n",
       "      <td>-0.642168</td>\n",
       "      <td>-0.866937</td>\n",
       "      <td>-0.239684</td>\n",
       "      <td>-0.668668</td>\n",
       "      <td>-0.32829</td>\n",
       "      <td>-0.203848</td>\n",
       "      <td>-0.557761</td>\n",
       "    </tr>\n",
       "  </tbody>\n",
       "</table>\n",
       "<p>5 rows × 33 columns</p>\n",
       "</div>"
      ],
      "text/plain": [
       "Name         dur    sbytes    dbytes     sttl      dttl     sload     dload  \\\n",
       "410480 -0.033978 -0.051128 -0.125058 -0.16134 -0.117144 -0.079799  0.104643   \n",
       "118551 -0.036044 -0.048925 -0.114114 -0.16134 -0.117144 -0.054104  2.558888   \n",
       "525054 -0.035255 -0.027028 -0.240489 -0.16134 -0.117144 -0.066129 -0.519949   \n",
       "246600 -0.035327 -0.072348 -0.245810 -0.16134 -0.117144 -0.078732 -0.572786   \n",
       "231871 -0.036723 -0.101869 -0.254325 -0.16134 -0.117144 -0.076182 -0.526601   \n",
       "\n",
       "Name       spkts      swin     stcpb  ...  ct_flw_http_mthd  is_ftp_login  \\\n",
       "410480  0.000223  0.634533 -0.720389  ...         -0.207205     -0.130863   \n",
       "118551  0.026561  0.634533  0.261030  ...         -0.207205     -0.130863   \n",
       "525054 -0.289493  0.634533  0.942663  ...         -0.207205     -0.130863   \n",
       "246600 -0.315831  0.634533  1.277555  ...         -0.207205     -0.130863   \n",
       "231871 -0.500196 -1.575987 -1.070473  ...         -0.207205     -0.130863   \n",
       "\n",
       "Name    ct_ftp_cmd  ct_srv_src  ct_srv_dst  ct_dst_ltm  ct_src_ltm  \\\n",
       "410480   -0.110529    0.669581   -0.388227   -0.594912   -0.047193   \n",
       "118551   -0.110529    0.232332    0.569193    0.826000   -0.668668   \n",
       "525054   -0.110529   -0.642168    0.329838   -0.594912   -0.979405   \n",
       "246600   -0.110529    0.450957    0.090483   -0.950140    0.263545   \n",
       "231871   -0.110529   -0.642168   -0.866937   -0.239684   -0.668668   \n",
       "\n",
       "Name    ct_src_dport_ltm  ct_dst_sport_ltm  ct_dst_src_ltm  \n",
       "410480          -0.32829         -0.203848        0.072335  \n",
       "118551          -0.32829         -0.203848       -0.557761  \n",
       "525054          -0.32829         -0.203848       -0.557761  \n",
       "246600          -0.32829         -0.203848       -0.557761  \n",
       "231871          -0.32829         -0.203848       -0.557761  \n",
       "\n",
       "[5 rows x 33 columns]"
      ]
     },
     "execution_count": 34,
     "metadata": {},
     "output_type": "execute_result"
    }
   ],
   "source": [
    "x_test.head()"
   ]
  },
  {
   "cell_type": "markdown",
   "id": "8138f2d1",
   "metadata": {},
   "source": [
    "# 8. Model Training and Performance Evaluation with ML Algorithms "
   ]
  },
  {
   "cell_type": "markdown",
   "id": "4a542639",
   "metadata": {},
   "source": [
    "## a1. Logistric Regression - Training"
   ]
  },
  {
   "cell_type": "code",
   "execution_count": 42,
   "id": "1deff140",
   "metadata": {},
   "outputs": [],
   "source": [
    "# Peformance Evaluation using cross-validation \n",
    "# Assign Logistic Regression classifier\n",
    "clf = LogisticRegression(solver='lbfgs', random_state=123, max_iter = 4000)\n",
    "\n",
    "# Apply Stratified 10-fold cross-validator, it provides train/validate indices to split data in train/validate sets.\n",
    "cv = StratifiedKFold(n_splits=10, shuffle=True, random_state=123)\n",
    "\n",
    "# Set the performance metrics for evaluating\n",
    "scoring = ['accuracy', 'precision', 'recall', 'f1', 'roc_auc']\n",
    "\n",
    "# perform the 10-fold CV and get the metrics results\n",
    "cv_results = cross_validate(estimator=clf,\n",
    "                            X=x_train,\n",
    "                            y=y_train,\n",
    "                            scoring=scoring,\n",
    "                            cv=cv,\n",
    "                            return_train_score=False) "
   ]
  },
  {
   "cell_type": "code",
   "execution_count": 43,
   "id": "8efddbcf",
   "metadata": {},
   "outputs": [
    {
     "data": {
      "text/plain": [
       "{'fit_time': array([ 3.32585478,  4.37222743,  8.40428114,  9.50690174,  3.11775231,\n",
       "         8.66023183,  4.14350009,  3.39787269, 10.17474031,  3.0286088 ]),\n",
       " 'score_time': array([0.11994815, 0.18918419, 0.12017488, 0.13689041, 0.09445953,\n",
       "        0.13575578, 0.06329608, 0.14149547, 0.07855678, 0.10632277]),\n",
       " 'test_accuracy': array([0.99260675, 0.99325049, 0.99268478, 0.99338704, 0.99317246,\n",
       "        0.99301641, 0.99305542, 0.9935431 , 0.99305542, 0.99282133]),\n",
       " 'test_precision': array([0.80221519, 0.81956696, 0.79813665, 0.81955485, 0.81593625,\n",
       "        0.80688038, 0.81155978, 0.82171157, 0.80862745, 0.80265211]),\n",
       " 'test_recall': array([0.88713911, 0.89413823, 0.89938758, 0.90201225, 0.89588801,\n",
       "        0.90288714, 0.8967629 , 0.90726159, 0.90201225, 0.89947552]),\n",
       " 'test_f1': array([0.84254258, 0.85523013, 0.84574249, 0.85880883, 0.85404504,\n",
       "        0.85218827, 0.85203658, 0.86237006, 0.85277089, 0.84830998]),\n",
       " 'test_roc_auc': array([0.99788672, 0.99824982, 0.99811422, 0.99831744, 0.99786905,\n",
       "        0.99823207, 0.99796063, 0.99810046, 0.9982049 , 0.99762855])}"
      ]
     },
     "execution_count": 43,
     "metadata": {},
     "output_type": "execute_result"
    }
   ],
   "source": [
    "cv_results"
   ]
  },
  {
   "cell_type": "code",
   "execution_count": 44,
   "id": "7fdf6b37",
   "metadata": {},
   "outputs": [
    {
     "name": "stdout",
     "output_type": "stream",
     "text": [
      "\n",
      "Mean Test Accuracy Value\n"
     ]
    },
    {
     "data": {
      "text/plain": [
       "0.9930593215379513"
      ]
     },
     "execution_count": 44,
     "metadata": {},
     "output_type": "execute_result"
    }
   ],
   "source": [
    "print('\\nMean Test Accuracy Value')\n",
    "cv_results['test_accuracy'].mean()"
   ]
  },
  {
   "cell_type": "code",
   "execution_count": 45,
   "id": "4b72f720",
   "metadata": {},
   "outputs": [
    {
     "name": "stdout",
     "output_type": "stream",
     "text": [
      "\n",
      "Mean Precision:\n"
     ]
    },
    {
     "data": {
      "text/plain": [
       "0.8106841180090185"
      ]
     },
     "execution_count": 45,
     "metadata": {},
     "output_type": "execute_result"
    }
   ],
   "source": [
    "print('\\nMean Precision:')\n",
    "cv_results['test_precision'].mean()"
   ]
  },
  {
   "cell_type": "code",
   "execution_count": 46,
   "id": "75cc70d3",
   "metadata": {},
   "outputs": [
    {
     "name": "stdout",
     "output_type": "stream",
     "text": [
      "\n",
      "Mean Recall:\n"
     ]
    },
    {
     "data": {
      "text/plain": [
       "0.8986964588342541"
      ]
     },
     "execution_count": 46,
     "metadata": {},
     "output_type": "execute_result"
    }
   ],
   "source": [
    "print('\\nMean Recall:')\n",
    "cv_results['test_recall'].mean()"
   ]
  },
  {
   "cell_type": "code",
   "execution_count": 47,
   "id": "622131c7",
   "metadata": {},
   "outputs": [
    {
     "name": "stdout",
     "output_type": "stream",
     "text": [
      "\n",
      "Mean F1:\n"
     ]
    },
    {
     "data": {
      "text/plain": [
       "0.8524044841688667"
      ]
     },
     "execution_count": 47,
     "metadata": {},
     "output_type": "execute_result"
    }
   ],
   "source": [
    "print('\\nMean F1:')\n",
    "cv_results['test_f1'].mean()"
   ]
  },
  {
   "cell_type": "code",
   "execution_count": 48,
   "id": "3e1da1fc",
   "metadata": {},
   "outputs": [
    {
     "name": "stdout",
     "output_type": "stream",
     "text": [
      "\n",
      "Mean Roc_Auc:\n"
     ]
    },
    {
     "data": {
      "text/plain": [
       "0.998056385836413"
      ]
     },
     "execution_count": 48,
     "metadata": {},
     "output_type": "execute_result"
    }
   ],
   "source": [
    "print('\\nMean Roc_Auc:')\n",
    "cv_results['test_roc_auc'].mean()"
   ]
  },
  {
   "cell_type": "markdown",
   "id": "7debf6ca",
   "metadata": {},
   "source": [
    "## a2. Logistic Regression - Performance Evaluation "
   ]
  },
  {
   "cell_type": "code",
   "execution_count": 56,
   "id": "c853c416",
   "metadata": {},
   "outputs": [
    {
     "name": "stdout",
     "output_type": "stream",
     "text": [
      "Logistic Regression Model\n",
      "The model scores 0.9467 ROC AUC on the test set.\n",
      "The precision score on the test set: 0.8125\n",
      "The recall score on the test set: 0.8981\n",
      "The f1 score on the test set: 0.8532\n",
      "The accuracy score on the test set: 0.9931\n",
      "Confusion Matrix:\n",
      " [[124721    590]\n",
      " [   290   2557]]\n",
      "Classification Report:\n",
      "               precision    recall  f1-score   support\n",
      "\n",
      "           0       1.00      1.00      1.00    125311\n",
      "           1       0.81      0.90      0.85      2847\n",
      "\n",
      "    accuracy                           0.99    128158\n",
      "   macro avg       0.91      0.95      0.92    128158\n",
      "weighted avg       0.99      0.99      0.99    128158\n",
      "\n"
     ]
    }
   ],
   "source": [
    "# fit the Logistic Regression model \n",
    "clf.fit(X=x_train, y=y_train)\n",
    "\n",
    "# predition on testing data\n",
    "y_pred_class = clf.predict(X=x_test)\n",
    "\n",
    "# AUC of ROC\n",
    "auc_ontest = roc_auc_score(y_true=y_test, y_score=y_pred_class)\n",
    "# precision score\n",
    "precision_ontest = precision_score(y_true=y_test, y_pred=y_pred_class)\n",
    "# recall score\n",
    "recall_ontest = recall_score(y_true=y_test, y_pred=y_pred_class)\n",
    "# f1 score\n",
    "f1_ontest = f1_score(y_true=y_test, y_pred=y_pred_class)\n",
    "# Accuracy score\n",
    "accuracy_ontest = accuracy_score(y_true=y_test, y_pred=y_pred_class)\n",
    "# confusion matrix\n",
    "cm_ontest = confusion_matrix(y_true=y_test, y_pred=y_pred_class)\n",
    "# classifition report\n",
    "cls_report_ontest = classification_report(y_true=y_test, y_pred=y_pred_class)\n",
    "\n",
    "# output the performance results and scores \n",
    "print(\"Logistic Regression Model\")\n",
    "print('The model scores {:1.4f} ROC AUC on the test set.'.format(auc_ontest))\n",
    "print('The precision score on the test set: {:1.4f}'.format(precision_ontest))\n",
    "print('The recall score on the test set: {:1.4f}'.format(recall_ontest))\n",
    "print('The f1 score on the test set: {:1.4f}'.format(f1_ontest))\n",
    "print('The accuracy score on the test set: {:1.4f}'.format(accuracy_ontest))\n",
    "\n",
    "# output the Confusion Matrix and Classification Report\n",
    "print('Confusion Matrix:\\n', cm_ontest)\n",
    "print('Classification Report:\\n', cls_report_ontest)"
   ]
  },
  {
   "cell_type": "code",
   "execution_count": 57,
   "id": "7de53d81",
   "metadata": {},
   "outputs": [
    {
     "data": {
      "image/png": "[encoded data removed]",
      "text/plain": [
       "<Figure size 1000x700 with 2 Axes>"
      ]
     },
     "metadata": {},
     "output_type": "display_data"
    }
   ],
   "source": [
    "# Plot the Confusion Matrix (Logistic Regression)\n",
    "plt.figure(figsize=(10,7))\n",
    "sns.heatmap(cm_ontest, annot=True, fmt='d', cmap='Blues',xticklabels=['Normal','Anomaly'],yticklabels=['Normal','Anomaly'])\n",
    "plt.title('Confusion Matrix (Logistic Regression)')\n",
    "plt.xlabel('Predicted')\n",
    "plt.ylabel('Actual')\n",
    "plt.show()"
   ]
  },
  {
   "cell_type": "code",
   "execution_count": 58,
   "id": "e2b69284",
   "metadata": {},
   "outputs": [
    {
     "data": {
      "image/png": "[encoded data removed]",
      "text/plain": [
       "<Figure size 1000x700 with 1 Axes>"
      ]
     },
     "metadata": {},
     "output_type": "display_data"
    }
   ],
   "source": [
    "# Plotting ROC Curve (Logistic Regression)\n",
    "fpr,tpr, thresholds = roc_curve(y_test, y_pred_class, pos_label=1)\n",
    "roc_auc = auc(fpr,tpr)\n",
    "plt.figure(figsize=(10,7))\n",
    "plt.plot(fpr,tpr, color='blue',label=f'ROC Curve (AUC = {roc_auc:.2f})')\n",
    "plt.plot([0,1],[0,1],color='red',linestyle='--')\n",
    "plt.xlim([0.0, 1.0])\n",
    "plt.ylim([0.0, 1.0])\n",
    "plt.xlabel('False Positive Rate')\n",
    "plt.ylabel('True Positive Rate')\n",
    "plt.title('Receiver Operating Characteristic ROC Curve (Logistic Regression)')\n",
    "plt.legend(loc='lower right')\n",
    "plt.show()\n"
   ]
  },
  {
   "cell_type": "markdown",
   "id": "3c855893",
   "metadata": {},
   "source": [
    "## b1. Decision Tree - Training"
   ]
  },
  {
   "cell_type": "code",
   "execution_count": 59,
   "id": "f5bfd5b5",
   "metadata": {},
   "outputs": [],
   "source": [
    "# Peformance Evaluation using cross-validation \n",
    "# Assign Decision Tree classifier\n",
    "clf = DecisionTreeClassifier(random_state=123)\n",
    "\n",
    "\n",
    "\n",
    "# Apply Stratified 10-fold cross-validator, it provides train/validate indices to split data in train/validate sets.\n",
    "cv = StratifiedKFold(n_splits=10, shuffle=True, random_state=123)\n",
    "\n",
    "# Set the performance metrics for evaluating\n",
    "scoring = ['accuracy', 'precision', 'recall', 'f1', 'roc_auc']\n",
    "\n",
    "# perform the 10-fold CV and get the metrics results\n",
    "cv_results = cross_validate(estimator=clf,\n",
    "                            X=x_train,\n",
    "                            y=y_train,\n",
    "                            scoring=scoring,\n",
    "                            cv=cv,\n",
    "                            return_train_score=False) "
   ]
  },
  {
   "cell_type": "code",
   "execution_count": 60,
   "id": "b2b52cf9",
   "metadata": {},
   "outputs": [
    {
     "data": {
      "text/plain": [
       "{'fit_time': array([2.49525428, 2.38543797, 2.70967603, 2.34036422, 2.42843509,\n",
       "        2.520679  , 2.09306383, 2.38770914, 2.75300717, 2.53869128]),\n",
       " 'score_time': array([0.10719538, 0.05643225, 0.06849098, 0.07776117, 0.06325698,\n",
       "        0.06646132, 0.06322217, 0.08277822, 0.0464654 , 0.07627225]),\n",
       " 'test_accuracy': array([0.9978347 , 0.99873203, 0.99826386, 0.99840041, 0.99869301,\n",
       "        0.99849794, 0.99828336, 0.99804928, 0.998654  , 0.99828336]),\n",
       " 'test_precision': array([0.95663717, 0.97614841, 0.9655477 , 0.96740088, 0.96701389,\n",
       "        0.95323129, 0.96150481, 0.95545852, 0.97022767, 0.96397188]),\n",
       " 'test_recall': array([0.94575678, 0.96675416, 0.95625547, 0.96062992, 0.97462817,\n",
       "        0.98075241, 0.96150481, 0.95713036, 0.96937883, 0.95891608]),\n",
       " 'test_f1': array([0.95116586, 0.97142857, 0.96087912, 0.96400351, 0.9708061 ,\n",
       "        0.96679603, 0.96150481, 0.95629371, 0.96980306, 0.96143734]),\n",
       " 'test_roc_auc': array([0.97238956, 0.98310772, 0.97773867, 0.97994585, 0.98693466,\n",
       "        0.98982752, 0.98031346, 0.97805596, 0.98434993, 0.97904902])}"
      ]
     },
     "execution_count": 60,
     "metadata": {},
     "output_type": "execute_result"
    }
   ],
   "source": [
    "cv_results"
   ]
  },
  {
   "cell_type": "code",
   "execution_count": 61,
   "id": "503b0d71",
   "metadata": {},
   "outputs": [
    {
     "name": "stdout",
     "output_type": "stream",
     "text": [
      "\n",
      "Mean Test Accuracy Value\n"
     ]
    },
    {
     "data": {
      "text/plain": [
       "0.998369194155629"
      ]
     },
     "execution_count": 61,
     "metadata": {},
     "output_type": "execute_result"
    }
   ],
   "source": [
    "print('\\nMean Test Accuracy Value')\n",
    "cv_results['test_accuracy'].mean()"
   ]
  },
  {
   "cell_type": "code",
   "execution_count": 62,
   "id": "6dac76c5",
   "metadata": {},
   "outputs": [
    {
     "name": "stdout",
     "output_type": "stream",
     "text": [
      "\n",
      "Mean Precision:\n"
     ]
    },
    {
     "data": {
      "text/plain": [
       "0.9637142222106473"
      ]
     },
     "execution_count": 62,
     "metadata": {},
     "output_type": "execute_result"
    }
   ],
   "source": [
    "print('\\nMean Precision:')\n",
    "cv_results['test_precision'].mean()"
   ]
  },
  {
   "cell_type": "code",
   "execution_count": 63,
   "id": "ee330bb9",
   "metadata": {},
   "outputs": [
    {
     "name": "stdout",
     "output_type": "stream",
     "text": [
      "\n",
      "Mean Recall:\n"
     ]
    },
    {
     "data": {
      "text/plain": [
       "0.9631706985053441"
      ]
     },
     "execution_count": 63,
     "metadata": {},
     "output_type": "execute_result"
    }
   ],
   "source": [
    "print('\\nMean Recall:')\n",
    "cv_results['test_recall'].mean()"
   ]
  },
  {
   "cell_type": "code",
   "execution_count": 64,
   "id": "b95a65f5",
   "metadata": {},
   "outputs": [
    {
     "name": "stdout",
     "output_type": "stream",
     "text": [
      "\n",
      "Mean F1:\n"
     ]
    },
    {
     "data": {
      "text/plain": [
       "0.9634118114567608"
      ]
     },
     "execution_count": 64,
     "metadata": {},
     "output_type": "execute_result"
    }
   ],
   "source": [
    "print('\\nMean F1:')\n",
    "cv_results['test_f1'].mean()"
   ]
  },
  {
   "cell_type": "code",
   "execution_count": 65,
   "id": "831596a1",
   "metadata": {},
   "outputs": [
    {
     "name": "stdout",
     "output_type": "stream",
     "text": [
      "\n",
      "Mean Roc_Auc:\n"
     ]
    },
    {
     "data": {
      "text/plain": [
       "0.9811712346980016"
      ]
     },
     "execution_count": 65,
     "metadata": {},
     "output_type": "execute_result"
    }
   ],
   "source": [
    "print('\\nMean Roc_Auc:')\n",
    "cv_results['test_roc_auc'].mean()"
   ]
  },
  {
   "cell_type": "markdown",
   "id": "aafb2a4d",
   "metadata": {},
   "source": [
    "## b2. Decision Tree - Performance Evaluation "
   ]
  },
  {
   "cell_type": "code",
   "execution_count": 66,
   "id": "0f3c33ad",
   "metadata": {},
   "outputs": [
    {
     "name": "stdout",
     "output_type": "stream",
     "text": [
      "Decision Tree Model\n",
      "The model scores 0.9814 ROC AUC on the test set.\n",
      "The precision score on the test set: 0.9682\n",
      "The recall score on the test set: 0.9635\n",
      "The f1 score on the test set: 0.9658\n",
      "The accuracy score on the test set: 0.9985\n",
      "Confusion Matrix:\n",
      " [[125221     90]\n",
      " [   104   2743]]\n",
      "Classification Report:\n",
      "               precision    recall  f1-score   support\n",
      "\n",
      "           0       1.00      1.00      1.00    125311\n",
      "           1       0.97      0.96      0.97      2847\n",
      "\n",
      "    accuracy                           1.00    128158\n",
      "   macro avg       0.98      0.98      0.98    128158\n",
      "weighted avg       1.00      1.00      1.00    128158\n",
      "\n"
     ]
    }
   ],
   "source": [
    "# fit the Decision Tree model \n",
    "clf.fit(X=x_train, y=y_train)\n",
    "\n",
    "# predition on testing data\n",
    "y_pred_class = clf.predict(X=x_test)\n",
    "\n",
    "# AUC of ROC\n",
    "auc_ontest = roc_auc_score(y_true=y_test, y_score=y_pred_class)\n",
    "# precision score\n",
    "precision_ontest = precision_score(y_true=y_test, y_pred=y_pred_class)\n",
    "# recall score\n",
    "recall_ontest = recall_score(y_true=y_test, y_pred=y_pred_class)\n",
    "# f1 score\n",
    "f1_ontest = f1_score(y_true=y_test, y_pred=y_pred_class)\n",
    "# Accuracy score\n",
    "accuracy_ontest = accuracy_score(y_true=y_test, y_pred=y_pred_class)\n",
    "# confusion matrix\n",
    "cm_ontest = confusion_matrix(y_true=y_test, y_pred=y_pred_class)\n",
    "# classifition report\n",
    "cls_report_ontest = classification_report(y_true=y_test, y_pred=y_pred_class)\n",
    "\n",
    "# output the performance results and scores \n",
    "print(\"Decision Tree Model\")\n",
    "print('The model scores {:1.4f} ROC AUC on the test set.'.format(auc_ontest))\n",
    "print('The precision score on the test set: {:1.4f}'.format(precision_ontest))\n",
    "print('The recall score on the test set: {:1.4f}'.format(recall_ontest))\n",
    "print('The f1 score on the test set: {:1.4f}'.format(f1_ontest))\n",
    "print('The accuracy score on the test set: {:1.4f}'.format(accuracy_ontest))\n",
    "\n",
    "# output the Confusion Matrix and Classification Report\n",
    "print('Confusion Matrix:\\n', cm_ontest)\n",
    "print('Classification Report:\\n', cls_report_ontest)"
   ]
  },
  {
   "cell_type": "code",
   "execution_count": 67,
   "id": "eff39e48",
   "metadata": {},
   "outputs": [
    {
     "data": {
      "image/png": "[encoded data removed]",
      "text/plain": [
       "<Figure size 1000x700 with 2 Axes>"
      ]
     },
     "metadata": {},
     "output_type": "display_data"
    }
   ],
   "source": [
    "# Plot the Confusion Matrix (Decision Tree)\n",
    "plt.figure(figsize=(10,7))\n",
    "sns.heatmap(cm_ontest, annot=True, fmt='d', cmap='Blues',xticklabels=['Normal','Anomaly'],yticklabels=['Normal','Anomaly'])\n",
    "plt.title('Confusion Matrix (Decision True)')\n",
    "plt.xlabel('Predicted')\n",
    "plt.ylabel('Actual')\n",
    "plt.show()"
   ]
  },
  {
   "cell_type": "code",
   "execution_count": 68,
   "id": "8aa05d4e",
   "metadata": {},
   "outputs": [
    {
     "data": {
      "image/png": "[encoded data removed]",
      "text/plain": [
       "<Figure size 1000x700 with 1 Axes>"
      ]
     },
     "metadata": {},
     "output_type": "display_data"
    }
   ],
   "source": [
    "# Plotting ROC Curve (Decision Tree)\n",
    "fpr,tpr, thresholds = roc_curve(y_test, y_pred_class, pos_label=1)\n",
    "roc_auc = auc(fpr,tpr)\n",
    "plt.figure(figsize=(10,7))\n",
    "plt.plot(fpr,tpr, color='blue',label=f'ROC Curve (AUC = {roc_auc:.2f})')\n",
    "plt.plot([0,1],[0,1],color='red',linestyle='--')\n",
    "plt.xlim([0.0, 1.0])\n",
    "plt.ylim([0.0, 1.0])\n",
    "plt.xlabel('False Positive Rate')\n",
    "plt.ylabel('True Positive Rate')\n",
    "plt.title('Receiver Operating Characteristic ROC Curve (Decision Tree)')\n",
    "plt.legend(loc='lower right')\n",
    "plt.show()\n"
   ]
  },
  {
   "cell_type": "markdown",
   "id": "019db348",
   "metadata": {},
   "source": [
    "## c1. Random Forest - Training"
   ]
  },
  {
   "cell_type": "code",
   "execution_count": 69,
   "id": "ad2b57a3",
   "metadata": {},
   "outputs": [],
   "source": [
    "# Peformance Evaluation using cross-validation \n",
    "# Assign RandomForest classifier\n",
    "clf = RandomForestClassifier(random_state=123)\n",
    "\n",
    "# Apply Stratified 10-fold cross-validator, it provides train/validate indices to split data in train/validate sets.\n",
    "cv = StratifiedKFold(n_splits=10, shuffle=True, random_state=123)\n",
    "\n",
    "# Set the performance metrics for evaluating\n",
    "scoring = ['accuracy', 'precision', 'recall', 'f1', 'roc_auc']\n",
    "\n",
    "# perform the 10-fold CV and get the metrics results\n",
    "cv_results = cross_validate(estimator=clf,\n",
    "                            X=x_train,\n",
    "                            y=y_train,\n",
    "                            scoring=scoring,\n",
    "                            cv=cv,\n",
    "                            return_train_score=False) "
   ]
  },
  {
   "cell_type": "code",
   "execution_count": 70,
   "id": "9ee0688b",
   "metadata": {},
   "outputs": [
    {
     "data": {
      "text/plain": [
       "{'fit_time': array([54.35407805, 50.14412451, 52.10018206, 56.15561557, 51.51737309,\n",
       "        54.29889178, 53.07909942, 54.95081162, 54.35932517, 51.44586968]),\n",
       " 'score_time': array([0.34699297, 0.44645667, 0.49001598, 0.43238616, 0.26797056,\n",
       "        0.37809348, 0.40309215, 0.48354697, 0.35042   , 0.32393742]),\n",
       " 'test_accuracy': array([0.99801026, 0.99853696, 0.99818583, 0.99816632, 0.99830287,\n",
       "        0.99814681, 0.99826386, 0.99853696, 0.99820533, 0.99849794]),\n",
       " 'test_precision': array([0.94832041, 0.95876289, 0.94871795, 0.95411255, 0.95051195,\n",
       "        0.93739566, 0.94812925, 0.9533107 , 0.94723404, 0.95559351]),\n",
       " 'test_recall': array([0.96325459, 0.97637795, 0.97112861, 0.96412948, 0.97462817,\n",
       "        0.98250219, 0.97550306, 0.98250219, 0.97375328, 0.97814685]),\n",
       " 'test_f1': array([0.95572917, 0.96749025, 0.95979248, 0.95909487, 0.96241901,\n",
       "        0.95941905, 0.96162139, 0.96768634, 0.96031061, 0.96673866]),\n",
       " 'test_roc_auc': array([0.99986705, 0.99991754, 0.99984247, 0.99986094, 0.99990348,\n",
       "        0.99983476, 0.99986655, 0.9998533 , 0.9998869 , 0.99989971])}"
      ]
     },
     "execution_count": 70,
     "metadata": {},
     "output_type": "execute_result"
    }
   ],
   "source": [
    "cv_results"
   ]
  },
  {
   "cell_type": "code",
   "execution_count": 71,
   "id": "d26f5682",
   "metadata": {},
   "outputs": [
    {
     "name": "stdout",
     "output_type": "stream",
     "text": [
      "\n",
      "Mean Test Accuracy Value\n"
     ]
    },
    {
     "data": {
      "text/plain": [
       "0.9982853129937773"
      ]
     },
     "execution_count": 71,
     "metadata": {},
     "output_type": "execute_result"
    }
   ],
   "source": [
    "print('\\nMean Test Accuracy Value')\n",
    "cv_results['test_accuracy'].mean()"
   ]
  },
  {
   "cell_type": "code",
   "execution_count": 72,
   "id": "b805fa34",
   "metadata": {},
   "outputs": [
    {
     "name": "stdout",
     "output_type": "stream",
     "text": [
      "\n",
      "Mean Precision:\n"
     ]
    },
    {
     "data": {
      "text/plain": [
       "0.9502088907859626"
      ]
     },
     "execution_count": 72,
     "metadata": {},
     "output_type": "execute_result"
    }
   ],
   "source": [
    "print('\\nMean Precision:')\n",
    "cv_results['test_precision'].mean()"
   ]
  },
  {
   "cell_type": "code",
   "execution_count": 73,
   "id": "9103a03d",
   "metadata": {},
   "outputs": [
    {
     "name": "stdout",
     "output_type": "stream",
     "text": [
      "\n",
      "Mean Recall:\n"
     ]
    },
    {
     "data": {
      "text/plain": [
       "0.9741926380705909"
      ]
     },
     "execution_count": 73,
     "metadata": {},
     "output_type": "execute_result"
    }
   ],
   "source": [
    "print('\\nMean Recall:')\n",
    "cv_results['test_recall'].mean()"
   ]
  },
  {
   "cell_type": "code",
   "execution_count": 74,
   "id": "51831e8b",
   "metadata": {},
   "outputs": [
    {
     "name": "stdout",
     "output_type": "stream",
     "text": [
      "\n",
      "Mean F1:\n"
     ]
    },
    {
     "data": {
      "text/plain": [
       "0.9620301818437532"
      ]
     },
     "execution_count": 74,
     "metadata": {},
     "output_type": "execute_result"
    }
   ],
   "source": [
    "print('\\nMean F1:')\n",
    "cv_results['test_f1'].mean()"
   ]
  },
  {
   "cell_type": "code",
   "execution_count": 75,
   "id": "d70bb52e",
   "metadata": {},
   "outputs": [
    {
     "name": "stdout",
     "output_type": "stream",
     "text": [
      "\n",
      "Mean Roc_Auc:\n"
     ]
    },
    {
     "data": {
      "text/plain": [
       "0.9998732698768749"
      ]
     },
     "execution_count": 75,
     "metadata": {},
     "output_type": "execute_result"
    }
   ],
   "source": [
    "print('\\nMean Roc_Auc:')\n",
    "cv_results['test_roc_auc'].mean()"
   ]
  },
  {
   "cell_type": "markdown",
   "id": "106bed94",
   "metadata": {},
   "source": [
    "## c2. Random Forest - Performance Evaluation "
   ]
  },
  {
   "cell_type": "code",
   "execution_count": 76,
   "id": "2d3bad62",
   "metadata": {},
   "outputs": [
    {
     "name": "stdout",
     "output_type": "stream",
     "text": [
      "Random Forest Model\n",
      "The model scores 0.9884 ROC AUC on the test set.\n",
      "The precision score on the test set: 0.9567\n",
      "The recall score on the test set: 0.9779\n",
      "The f1 score on the test set: 0.9672\n",
      "The accuracy score on the test set: 0.9985\n",
      "Confusion Matrix:\n",
      " [[125185    126]\n",
      " [    63   2784]]\n",
      "Classification Report:\n",
      "               precision    recall  f1-score   support\n",
      "\n",
      "           0       1.00      1.00      1.00    125311\n",
      "           1       0.96      0.98      0.97      2847\n",
      "\n",
      "    accuracy                           1.00    128158\n",
      "   macro avg       0.98      0.99      0.98    128158\n",
      "weighted avg       1.00      1.00      1.00    128158\n",
      "\n"
     ]
    }
   ],
   "source": [
    "# fit the Random Forest model \n",
    "clf.fit(X=x_train, y=y_train)\n",
    "\n",
    "# predition on testing data\n",
    "y_pred_class = clf.predict(X=x_test)\n",
    "\n",
    "# AUC of ROC\n",
    "auc_ontest = roc_auc_score(y_true=y_test, y_score=y_pred_class)\n",
    "# precision score\n",
    "precision_ontest = precision_score(y_true=y_test, y_pred=y_pred_class)\n",
    "# recall score\n",
    "recall_ontest = recall_score(y_true=y_test, y_pred=y_pred_class)\n",
    "# f1 score\n",
    "f1_ontest = f1_score(y_true=y_test, y_pred=y_pred_class)\n",
    "# Accuracy score\n",
    "accuracy_ontest = accuracy_score(y_true=y_test, y_pred=y_pred_class)\n",
    "# confusion matrix\n",
    "cm_ontest = confusion_matrix(y_true=y_test, y_pred=y_pred_class)\n",
    "# classifition report\n",
    "cls_report_ontest = classification_report(y_true=y_test, y_pred=y_pred_class)\n",
    "\n",
    "# output the performance results and scores \n",
    "print(\"Random Forest Model\")\n",
    "print('The model scores {:1.4f} ROC AUC on the test set.'.format(auc_ontest))\n",
    "print('The precision score on the test set: {:1.4f}'.format(precision_ontest))\n",
    "print('The recall score on the test set: {:1.4f}'.format(recall_ontest))\n",
    "print('The f1 score on the test set: {:1.4f}'.format(f1_ontest))\n",
    "print('The accuracy score on the test set: {:1.4f}'.format(accuracy_ontest))\n",
    "\n",
    "# output the Confusion Matrix and Classification Report\n",
    "print('Confusion Matrix:\\n', cm_ontest)\n",
    "print('Classification Report:\\n', cls_report_ontest)"
   ]
  },
  {
   "cell_type": "code",
   "execution_count": 77,
   "id": "ded0205e",
   "metadata": {},
   "outputs": [
    {
     "data": {
      "image/png": "[encoded data removed]",
      "text/plain": [
       "<Figure size 1000x700 with 2 Axes>"
      ]
     },
     "metadata": {},
     "output_type": "display_data"
    }
   ],
   "source": [
    "# Plot the Confusion Matrix (Random Forest)\n",
    "plt.figure(figsize=(10,7))\n",
    "sns.heatmap(cm_ontest, annot=True, fmt='d', cmap='Blues',xticklabels=['Normal','Anomaly'],yticklabels=['Normal','Anomaly'])\n",
    "plt.title('Confusion Matrix (Random Forest)')\n",
    "plt.xlabel('Predicted')\n",
    "plt.ylabel('Actual')\n",
    "plt.show()"
   ]
  },
  {
   "cell_type": "code",
   "execution_count": 78,
   "id": "f61af39a",
   "metadata": {},
   "outputs": [
    {
     "data": {
      "image/png": "[encoded data removed]",
      "text/plain": [
       "<Figure size 1000x700 with 1 Axes>"
      ]
     },
     "metadata": {},
     "output_type": "display_data"
    }
   ],
   "source": [
    "# Plotting ROC Curve (Random Forest)\n",
    "fpr,tpr, thresholds = roc_curve(y_test, y_pred_class, pos_label=1)\n",
    "roc_auc = auc(fpr,tpr)\n",
    "plt.figure(figsize=(10,7))\n",
    "plt.plot(fpr,tpr, color='blue',label=f'ROC Curve (AUC = {roc_auc:.2f})')\n",
    "plt.plot([0,1],[0,1],color='red',linestyle='--')\n",
    "plt.xlim([0.0, 1.0])\n",
    "plt.ylim([0.0, 1.0])\n",
    "plt.xlabel('False Positive Rate')\n",
    "plt.ylabel('True Positive Rate')\n",
    "plt.title('Receiver Operating Characteristic ROC Curve (Random Forest)')\n",
    "plt.legend(loc='lower right')\n",
    "plt.show()\n"
   ]
  },
  {
   "cell_type": "markdown",
   "id": "789f2731",
   "metadata": {},
   "source": [
    "## d1. Support Vector Classifier (SVC) - Training"
   ]
  },
  {
   "cell_type": "code",
   "execution_count": 79,
   "id": "4ec4ad3b",
   "metadata": {},
   "outputs": [],
   "source": [
    "# Peformance Evaluation using cross-validation \n",
    "# Assign SVC classifier\n",
    "clf = SVC(kernel='linear', random_state=42)  \n",
    "\n",
    "# Apply Stratified 10-fold cross-validator, it provides train/validate indices to split data in train/validate sets.\n",
    "cv = StratifiedKFold(n_splits=10, shuffle=True, random_state=123)\n",
    "\n",
    "# Set the performance metrics for evaluating\n",
    "scoring = ['accuracy', 'precision', 'recall', 'f1', 'roc_auc']\n",
    "\n",
    "# perform the 10-fold CV and get the metrics results\n",
    "cv_results = cross_validate(estimator=clf,\n",
    "                            X=x_train,\n",
    "                            y=y_train,\n",
    "                            scoring=scoring,\n",
    "                            cv=cv,\n",
    "                            return_train_score=False) "
   ]
  },
  {
   "cell_type": "code",
   "execution_count": 80,
   "id": "6482bc22",
   "metadata": {
    "scrolled": true
   },
   "outputs": [
    {
     "data": {
      "text/plain": [
       "{'fit_time': array([ 976.84360838,  887.93177056,  976.79396391, 1036.69112682,\n",
       "         983.83422732,  978.66492701, 1067.74011016, 1033.68926144,\n",
       "        1032.92445111, 1025.74496508]),\n",
       " 'score_time': array([12.77760124, 13.3495214 , 14.13155651, 12.95689583, 13.91573811,\n",
       "        13.71964645, 13.12107897, 13.89170504, 13.96894956, 12.93665123]),\n",
       " 'test_accuracy': array([0.99393325, 0.99438191, 0.9937967 , 0.99405029, 0.99385522,\n",
       "        0.99360162, 0.99387472, 0.99418684, 0.99352359, 0.99364064]),\n",
       " 'test_precision': array([0.79799427, 0.81136198, 0.79359431, 0.8023088 , 0.80043541,\n",
       "        0.79379957, 0.80014482, 0.80952381, 0.78984989, 0.79172611]),\n",
       " 'test_recall': array([0.97462817, 0.97462817, 0.97550306, 0.97287839, 0.96500437,\n",
       "        0.96325459, 0.96675416, 0.96675416, 0.96675416, 0.97027972]),\n",
       " 'test_f1': array([0.87751083, 0.88553259, 0.87519623, 0.87939897, 0.87504958,\n",
       "        0.87035573, 0.87559429, 0.88118022, 0.86939418, 0.87195601]),\n",
       " 'test_roc_auc': array([0.99794052, 0.99833554, 0.99807109, 0.99830402, 0.99793929,\n",
       "        0.99799244, 0.99832008, 0.99842567, 0.99820312, 0.99766805])}"
      ]
     },
     "execution_count": 80,
     "metadata": {},
     "output_type": "execute_result"
    }
   ],
   "source": [
    "cv_results"
   ]
  },
  {
   "cell_type": "code",
   "execution_count": 81,
   "id": "a5952dde",
   "metadata": {},
   "outputs": [
    {
     "name": "stdout",
     "output_type": "stream",
     "text": [
      "\n",
      "Mean Test Accuracy Value\n"
     ]
    },
    {
     "data": {
      "text/plain": [
       "0.993884478083608"
      ]
     },
     "execution_count": 81,
     "metadata": {},
     "output_type": "execute_result"
    }
   ],
   "source": [
    "print('\\nMean Test Accuracy Value')\n",
    "cv_results['test_accuracy'].mean()"
   ]
  },
  {
   "cell_type": "code",
   "execution_count": 82,
   "id": "bf3a75d6",
   "metadata": {},
   "outputs": [
    {
     "name": "stdout",
     "output_type": "stream",
     "text": [
      "\n",
      "Mean Precision:\n"
     ]
    },
    {
     "data": {
      "text/plain": [
       "0.7990738970277776"
      ]
     },
     "execution_count": 82,
     "metadata": {},
     "output_type": "execute_result"
    }
   ],
   "source": [
    "print('\\nMean Precision:')\n",
    "cv_results['test_precision'].mean()"
   ]
  },
  {
   "cell_type": "code",
   "execution_count": 83,
   "id": "e1e683d5",
   "metadata": {},
   "outputs": [
    {
     "name": "stdout",
     "output_type": "stream",
     "text": [
      "\n",
      "Mean Recall:\n"
     ]
    },
    {
     "data": {
      "text/plain": [
       "0.9696438950375958"
      ]
     },
     "execution_count": 83,
     "metadata": {},
     "output_type": "execute_result"
    }
   ],
   "source": [
    "print('\\nMean Recall:')\n",
    "cv_results['test_recall'].mean()"
   ]
  },
  {
   "cell_type": "code",
   "execution_count": 84,
   "id": "2b67f6b6",
   "metadata": {},
   "outputs": [
    {
     "name": "stdout",
     "output_type": "stream",
     "text": [
      "\n",
      "Mean F1:\n"
     ]
    },
    {
     "data": {
      "text/plain": [
       "0.8761168646734434"
      ]
     },
     "execution_count": 84,
     "metadata": {},
     "output_type": "execute_result"
    }
   ],
   "source": [
    "print('\\nMean F1:')\n",
    "cv_results['test_f1'].mean()"
   ]
  },
  {
   "cell_type": "code",
   "execution_count": 85,
   "id": "ac90dae4",
   "metadata": {},
   "outputs": [
    {
     "name": "stdout",
     "output_type": "stream",
     "text": [
      "\n",
      "Mean Roc_Auc:\n"
     ]
    },
    {
     "data": {
      "text/plain": [
       "0.9981199813528567"
      ]
     },
     "execution_count": 85,
     "metadata": {},
     "output_type": "execute_result"
    }
   ],
   "source": [
    "print('\\nMean Roc_Auc:')\n",
    "cv_results['test_roc_auc'].mean()"
   ]
  },
  {
   "cell_type": "markdown",
   "id": "adcf7816",
   "metadata": {},
   "source": [
    "## d2. Support Vector Classifier (SVC) - Performance Evaluation "
   ]
  },
  {
   "cell_type": "code",
   "execution_count": 86,
   "id": "88a4402d",
   "metadata": {},
   "outputs": [
    {
     "name": "stdout",
     "output_type": "stream",
     "text": [
      "SVC Model\n",
      "The model scores 0.9834 ROC AUC on the test set.\n",
      "The precision score on the test set: 0.8019\n",
      "The recall score on the test set: 0.9723\n",
      "The f1 score on the test set: 0.8789\n",
      "The accuracy score on the test set: 0.9940\n",
      "Confusion Matrix:\n",
      " [[124627    684]\n",
      " [    79   2768]]\n",
      "Classification Report:\n",
      "               precision    recall  f1-score   support\n",
      "\n",
      "           0       1.00      0.99      1.00    125311\n",
      "           1       0.80      0.97      0.88      2847\n",
      "\n",
      "    accuracy                           0.99    128158\n",
      "   macro avg       0.90      0.98      0.94    128158\n",
      "weighted avg       0.99      0.99      0.99    128158\n",
      "\n"
     ]
    }
   ],
   "source": [
    "# fit the SVC model \n",
    "clf.fit(X=x_train, y=y_train)\n",
    "\n",
    "# predition on testing data\n",
    "y_pred_class = clf.predict(X=x_test)\n",
    "\n",
    "# AUC of ROC\n",
    "auc_ontest = roc_auc_score(y_true=y_test, y_score=y_pred_class)\n",
    "# precision score\n",
    "precision_ontest = precision_score(y_true=y_test, y_pred=y_pred_class)\n",
    "# recall score\n",
    "recall_ontest = recall_score(y_true=y_test, y_pred=y_pred_class)\n",
    "# f1 score\n",
    "f1_ontest = f1_score(y_true=y_test, y_pred=y_pred_class)\n",
    "# Accuracy score\n",
    "accuracy_ontest = accuracy_score(y_true=y_test, y_pred=y_pred_class)\n",
    "# confusion matrix\n",
    "cm_ontest = confusion_matrix(y_true=y_test, y_pred=y_pred_class)\n",
    "# classifition report\n",
    "cls_report_ontest = classification_report(y_true=y_test, y_pred=y_pred_class)\n",
    "\n",
    "# output the performance results and scores \n",
    "print(\"SVC Model\")\n",
    "print('The model scores {:1.4f} ROC AUC on the test set.'.format(auc_ontest))\n",
    "print('The precision score on the test set: {:1.4f}'.format(precision_ontest))\n",
    "print('The recall score on the test set: {:1.4f}'.format(recall_ontest))\n",
    "print('The f1 score on the test set: {:1.4f}'.format(f1_ontest))\n",
    "print('The accuracy score on the test set: {:1.4f}'.format(accuracy_ontest))\n",
    "\n",
    "# output the Confusion Matrix and Classification Report\n",
    "print('Confusion Matrix:\\n', cm_ontest)\n",
    "print('Classification Report:\\n', cls_report_ontest)"
   ]
  },
  {
   "cell_type": "code",
   "execution_count": 87,
   "id": "a3b8ef52",
   "metadata": {},
   "outputs": [
    {
     "data": {
      "image/png": "[encoded data removed]",
      "text/plain": [
       "<Figure size 1000x700 with 2 Axes>"
      ]
     },
     "metadata": {},
     "output_type": "display_data"
    }
   ],
   "source": [
    "# Plot the Confusion Matrix (SVC)\n",
    "plt.figure(figsize=(10,7))\n",
    "sns.heatmap(cm_ontest, annot=True, fmt='d', cmap='Blues',xticklabels=['Normal','Anomaly'],yticklabels=['Normal','Anomaly'])\n",
    "plt.title('Confusion Matrix (SVC)')\n",
    "plt.xlabel('Predicted')\n",
    "plt.ylabel('Actual')\n",
    "plt.show()"
   ]
  },
  {
   "cell_type": "code",
   "execution_count": 88,
   "id": "8893d1cb",
   "metadata": {},
   "outputs": [
    {
     "data": {
      "image/png": "[encoded data removed]",
      "text/plain": [
       "<Figure size 1000x700 with 1 Axes>"
      ]
     },
     "metadata": {},
     "output_type": "display_data"
    }
   ],
   "source": [
    "# Plotting ROC Curve (SVC)\n",
    "fpr,tpr, thresholds = roc_curve(y_test, y_pred_class, pos_label=1)\n",
    "roc_auc = auc(fpr,tpr)\n",
    "plt.figure(figsize=(10,7))\n",
    "plt.plot(fpr,tpr, color='blue',label=f'ROC Curve (AUC = {roc_auc:.2f})')\n",
    "plt.plot([0,1],[0,1],color='red',linestyle='--')\n",
    "plt.xlim([0.0, 1.0])\n",
    "plt.ylim([0.0, 1.0])\n",
    "plt.xlabel('False Positive Rate')\n",
    "plt.ylabel('True Positive Rate')\n",
    "plt.title('Receiver Operating Characteristic ROC Curve (SVC)')\n",
    "plt.legend(loc='lower right')\n",
    "plt.show()\n"
   ]
  },
  {
   "cell_type": "markdown",
   "id": "c53e18ea",
   "metadata": {},
   "source": [
    "## e1. Multi-Layer Perceptron (MLP) - Training"
   ]
  },
  {
   "cell_type": "code",
   "execution_count": 35,
   "id": "d2081930",
   "metadata": {},
   "outputs": [],
   "source": [
    "# Peformance Evaluation using cross-validation \n",
    "# Assign MLP classifier\n",
    "# clf = MLPClassifier(random_state=123,solver='adam',max_iter=8000)   \n",
    "clf = MLPClassifier(hidden_layer_sizes=(64, 32),max_iter=8000, random_state=42)\n",
    "\n",
    "# Apply Stratified 10-fold cross-validator, it provides train/validate indices to split data in train/validate sets.\n",
    "cv = StratifiedKFold(n_splits=10, shuffle=True, random_state=123)\n",
    "\n",
    "# Set the performance metrics for evaluating\n",
    "scoring = ['accuracy', 'precision', 'recall', 'f1', 'roc_auc']\n",
    "\n",
    "# perform the 10-fold CV and get the metrics results\n",
    "cv_results = cross_validate(estimator=clf,\n",
    "                            X=x_train,\n",
    "                            y=y_train,\n",
    "                            scoring=scoring,\n",
    "                            cv=cv,\n",
    "                            return_train_score=False) "
   ]
  },
  {
   "cell_type": "code",
   "execution_count": 60,
   "id": "2a3f4563",
   "metadata": {
    "scrolled": true
   },
   "outputs": [
    {
     "data": {
      "text/plain": [
       "{'fit_time': array([ 992.53585887,  870.68959999,  950.24778771, 1044.9169066 ,\n",
       "         960.33506036,  971.96708512, 1097.39223313, 1012.32901168,\n",
       "         989.43847656, 1023.87968612]),\n",
       " 'score_time': array([14.12666321, 14.11569953, 14.07888365, 13.71035743, 13.41277027,\n",
       "        13.94691706, 13.76300573, 13.41295338, 12.81091046, 14.56534576]),\n",
       " 'test_accuracy': array([0.99393325, 0.99438191, 0.9937967 , 0.99405029, 0.99385522,\n",
       "        0.99360162, 0.99387472, 0.99418684, 0.99352359, 0.99364064]),\n",
       " 'test_precision': array([0.79799427, 0.81136198, 0.79359431, 0.8023088 , 0.80043541,\n",
       "        0.79379957, 0.80014482, 0.80952381, 0.78984989, 0.79172611]),\n",
       " 'test_recall': array([0.97462817, 0.97462817, 0.97550306, 0.97287839, 0.96500437,\n",
       "        0.96325459, 0.96675416, 0.96675416, 0.96675416, 0.97027972]),\n",
       " 'test_f1': array([0.87751083, 0.88553259, 0.87519623, 0.87939897, 0.87504958,\n",
       "        0.87035573, 0.87559429, 0.88118022, 0.86939418, 0.87195601]),\n",
       " 'test_roc_auc': array([0.99794052, 0.99833554, 0.99807109, 0.99830402, 0.99793929,\n",
       "        0.99799244, 0.99832008, 0.99842567, 0.99820312, 0.99766805])}"
      ]
     },
     "execution_count": 60,
     "metadata": {},
     "output_type": "execute_result"
    }
   ],
   "source": [
    "cv_results"
   ]
  },
  {
   "cell_type": "code",
   "execution_count": 61,
   "id": "6de933fb",
   "metadata": {},
   "outputs": [
    {
     "name": "stdout",
     "output_type": "stream",
     "text": [
      "\n",
      "Mean Test Accuracy Value\n"
     ]
    },
    {
     "data": {
      "text/plain": [
       "0.993884478083608"
      ]
     },
     "execution_count": 61,
     "metadata": {},
     "output_type": "execute_result"
    }
   ],
   "source": [
    "print('\\nMean Test Accuracy Value')\n",
    "cv_results['test_accuracy'].mean()"
   ]
  },
  {
   "cell_type": "code",
   "execution_count": 62,
   "id": "f2530e5f",
   "metadata": {},
   "outputs": [
    {
     "name": "stdout",
     "output_type": "stream",
     "text": [
      "\n",
      "Mean Precision:\n"
     ]
    },
    {
     "data": {
      "text/plain": [
       "0.7990738970277776"
      ]
     },
     "execution_count": 62,
     "metadata": {},
     "output_type": "execute_result"
    }
   ],
   "source": [
    "print('\\nMean Precision:')\n",
    "cv_results['test_precision'].mean()"
   ]
  },
  {
   "cell_type": "code",
   "execution_count": 63,
   "id": "8a8de36f",
   "metadata": {},
   "outputs": [
    {
     "name": "stdout",
     "output_type": "stream",
     "text": [
      "\n",
      "Mean Recall:\n"
     ]
    },
    {
     "data": {
      "text/plain": [
       "0.9696438950375958"
      ]
     },
     "execution_count": 63,
     "metadata": {},
     "output_type": "execute_result"
    }
   ],
   "source": [
    "print('\\nMean Recall:')\n",
    "cv_results['test_recall'].mean()"
   ]
  },
  {
   "cell_type": "code",
   "execution_count": 64,
   "id": "851a36f2",
   "metadata": {},
   "outputs": [
    {
     "name": "stdout",
     "output_type": "stream",
     "text": [
      "\n",
      "Mean F1:\n"
     ]
    },
    {
     "data": {
      "text/plain": [
       "0.8761168646734434"
      ]
     },
     "execution_count": 64,
     "metadata": {},
     "output_type": "execute_result"
    }
   ],
   "source": [
    "print('\\nMean F1:')\n",
    "cv_results['test_f1'].mean()"
   ]
  },
  {
   "cell_type": "code",
   "execution_count": 65,
   "id": "0d992f60",
   "metadata": {},
   "outputs": [
    {
     "name": "stdout",
     "output_type": "stream",
     "text": [
      "\n",
      "Mean Roc_Auc:\n"
     ]
    },
    {
     "data": {
      "text/plain": [
       "0.9981199813528567"
      ]
     },
     "execution_count": 65,
     "metadata": {},
     "output_type": "execute_result"
    }
   ],
   "source": [
    "print('\\nMean Roc_Auc:')\n",
    "cv_results['test_roc_auc'].mean()"
   ]
  },
  {
   "cell_type": "markdown",
   "id": "acd237c7",
   "metadata": {},
   "source": [
    "## e2. Multi-Layer Perceptron (MLP) - Performance Evaluation "
   ]
  },
  {
   "cell_type": "code",
   "execution_count": 36,
   "id": "9c5c526a",
   "metadata": {},
   "outputs": [
    {
     "name": "stdout",
     "output_type": "stream",
     "text": [
      "MLP Model\n",
      "The model scores 0.9749 ROC AUC on the test set.\n",
      "The precision score on the test set: 0.8851\n",
      "The recall score on the test set: 0.9526\n",
      "The f1 score on the test set: 0.9176\n",
      "The accuracy score on the test set: 0.9962\n",
      "Confusion Matrix:\n",
      " [[124959    352]\n",
      " [   135   2712]]\n",
      "Classification Report:\n",
      "               precision    recall  f1-score   support\n",
      "\n",
      "           0       1.00      1.00      1.00    125311\n",
      "           1       0.89      0.95      0.92      2847\n",
      "\n",
      "    accuracy                           1.00    128158\n",
      "   macro avg       0.94      0.97      0.96    128158\n",
      "weighted avg       1.00      1.00      1.00    128158\n",
      "\n"
     ]
    }
   ],
   "source": [
    "# fit the MLP model \n",
    "clf.fit(X=x_train, y=y_train)\n",
    "\n",
    "# predition on testing data\n",
    "y_pred_class = clf.predict(X=x_test)\n",
    "\n",
    "# AUC of ROC\n",
    "auc_ontest = roc_auc_score(y_true=y_test, y_score=y_pred_class)\n",
    "# precision score\n",
    "precision_ontest = precision_score(y_true=y_test, y_pred=y_pred_class)\n",
    "# recall score\n",
    "recall_ontest = recall_score(y_true=y_test, y_pred=y_pred_class)\n",
    "# f1 score\n",
    "f1_ontest = f1_score(y_true=y_test, y_pred=y_pred_class)\n",
    "# Accuracy score\n",
    "accuracy_ontest = accuracy_score(y_true=y_test, y_pred=y_pred_class)\n",
    "# confusion matrix\n",
    "cm_ontest = confusion_matrix(y_true=y_test, y_pred=y_pred_class)\n",
    "# classifition report\n",
    "cls_report_ontest = classification_report(y_true=y_test, y_pred=y_pred_class)\n",
    "\n",
    "# output the performance results and scores \n",
    "print(\"MLP Model\")\n",
    "print('The model scores {:1.4f} ROC AUC on the test set.'.format(auc_ontest))\n",
    "print('The precision score on the test set: {:1.4f}'.format(precision_ontest))\n",
    "print('The recall score on the test set: {:1.4f}'.format(recall_ontest))\n",
    "print('The f1 score on the test set: {:1.4f}'.format(f1_ontest))\n",
    "print('The accuracy score on the test set: {:1.4f}'.format(accuracy_ontest))\n",
    "\n",
    "# output the Confusion Matrix and Classification Report\n",
    "print('Confusion Matrix:\\n', cm_ontest)\n",
    "print('Classification Report:\\n', cls_report_ontest)"
   ]
  },
  {
   "cell_type": "code",
   "execution_count": 38,
   "id": "2298aa9a",
   "metadata": {},
   "outputs": [
    {
     "data": {
      "image/png": "[encoded data removed]",
      "text/plain": [
       "<Figure size 1000x700 with 2 Axes>"
      ]
     },
     "metadata": {},
     "output_type": "display_data"
    }
   ],
   "source": [
    "# Plot the Confusion Matrix (MLP)\n",
    "plt.figure(figsize=(10,7))\n",
    "sns.heatmap(cm_ontest, annot=True, fmt='d', cmap='Blues',xticklabels=['Normal','Anomaly'],yticklabels=['Normal','Anomaly'])\n",
    "plt.title('Confusion Matrix (MLP)')\n",
    "plt.xlabel('Predicted')\n",
    "plt.ylabel('Actual')\n",
    "plt.show()"
   ]
  },
  {
   "cell_type": "code",
   "execution_count": 41,
   "id": "8100b9a7",
   "metadata": {},
   "outputs": [
    {
     "data": {
      "image/png": "[encoded data removed]",
      "text/plain": [
       "<Figure size 1000x700 with 1 Axes>"
      ]
     },
     "metadata": {},
     "output_type": "display_data"
    }
   ],
   "source": [
    "# Plotting ROC Curve (MLP)\n",
    "fpr,tpr, thresholds = roc_curve(y_test, y_pred_class, pos_label=1)\n",
    "roc_auc = auc(fpr,tpr)\n",
    "plt.figure(figsize=(10,7))\n",
    "plt.plot(fpr,tpr, color='blue',label=f'ROC Curve (AUC = {roc_auc:.2f})')\n",
    "plt.plot([0,1],[0,1],color='red',linestyle='--')\n",
    "plt.xlim([0.0, 1.0])\n",
    "plt.ylim([0.0, 1.0])\n",
    "plt.xlabel('False Positive Rate')\n",
    "plt.ylabel('True Positive Rate')\n",
    "plt.title('Receiver Operating Characteristic ROC Curve (MLP)')\n",
    "plt.legend(loc='lower right')\n",
    "plt.show()\n"
   ]
  },
  {
   "cell_type": "markdown",
   "id": "a17ebb02",
   "metadata": {},
   "source": [
    "## END"
   ]
  },
  {
   "cell_type": "code",
   "execution_count": null,
   "id": "65d1fd2f",
   "metadata": {},
   "outputs": [],
   "source": []
  }
 ],
 "metadata": {
  "kernelspec": {
   "display_name": "Python 3 (ipykernel)",
   "language": "python",
   "name": "python3"
  },
  "language_info": {
   "codemirror_mode": {
    "name": "ipython",
    "version": 3
   },
   "file_extension": ".py",
   "mimetype": "text/x-python",
   "name": "python",
   "nbconvert_exporter": "python",
   "pygments_lexer": "ipython3",
   "version": "3.10.11"
  },
  "widgets": {
   "application/vnd.jupyter.widget-state+json": {
    "state": {},
    "version_major": 2,
    "version_minor": 0
   }
  }
 },
 "nbformat": 4,
 "nbformat_minor": 5
}
